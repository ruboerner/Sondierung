{
 "cells": [
  {
   "cell_type": "markdown",
   "metadata": {},
   "source": [
    "# Interaktive Auswertung einer Widerstandstiefensondierung"
   ]
  },
  {
   "cell_type": "code",
   "execution_count": 1,
   "metadata": {},
   "outputs": [
    {
     "data": {
      "text/html": [
       "<script>\n",
       "// Immediately-invoked-function-expression to avoid global variables.\n",
       "(function() {\n",
       "    var warning_div = document.getElementById(\"webio-warning-5668640624469990678\");\n",
       "    var hide = function () {\n",
       "        var script = document.getElementById(\"webio-setup-3036585350848843725\");\n",
       "        var parent = script && script.parentElement;\n",
       "        var grandparent = parent && parent.parentElement;\n",
       "        if (grandparent) {\n",
       "            grandparent.style.display = \"none\";\n",
       "        }\n",
       "        warning_div.style.display = \"none\";\n",
       "    };\n",
       "    if (typeof Jupyter !== \"undefined\") {\n",
       "        console.log(\"WebIO detected Jupyter notebook environment.\");\n",
       "        // Jupyter notebook.\n",
       "        var extensions = (\n",
       "            Jupyter\n",
       "            && Jupyter.notebook.config.data\n",
       "            && Jupyter.notebook.config.data.load_extensions\n",
       "        );\n",
       "        if (extensions && extensions[\"webio-jupyter-notebook\"]) {\n",
       "            // Extension already loaded.\n",
       "            console.log(\"Jupyter WebIO nbextension detected; not loading ad-hoc.\");\n",
       "            hide();\n",
       "            return;\n",
       "        }\n",
       "    } else if (window.location.pathname.includes(\"/lab\")) {\n",
       "        // Guessing JupyterLa\n",
       "        console.log(\"Jupyter Lab detected; make sure the @webio/jupyter-lab-provider labextension is installed.\");\n",
       "        hide();\n",
       "        return;\n",
       "    }\n",
       "})();\n",
       "\n",
       "</script>\n",
       "<p\n",
       "    id=\"webio-warning-5668640624469990678\"\n",
       "    class=\"output_text output_stderr\"\n",
       "    style=\"padding: 1em; font-weight: bold;\"\n",
       ">\n",
       "    Unable to load WebIO. Please make sure WebIO works for your Jupyter client.\n",
       "    For troubleshooting, please see <a href=\"https://juliagizmos.github.io/WebIO.jl/latest/providers/ijulia/\">\n",
       "    the WebIO/IJulia documentation</a>.\n",
       "    <!-- TODO: link to installation docs. -->\n",
       "</p>\n"
      ],
      "text/plain": [
       "HTML{String}(\"<script>\\n// Immediately-invoked-function-expression to avoid global variables.\\n(function() {\\n    var warning_div = document.getElementById(\\\"webio-warning-5668640624469990678\\\");\\n    var hide = function () {\\n        var script = document.getElementById(\\\"webio-setup-3036585350848843725\\\");\\n        var parent = script && script.parentElement;\\n        var grandparent = parent && parent.parentElement;\\n        if (grandparent) {\\n            grandparent.style.display = \\\"none\\\";\\n        }\\n        warning_div.style.display = \\\"none\\\";\\n    };\\n    if (typeof Jupyter !== \\\"undefined\\\") {\\n        console.log(\\\"WebIO detected Jupyter notebook environment.\\\");\\n        // Jupyter notebook.\\n        var extensions = (\\n            Jupyter\\n            && Jupyter.notebook.config.data\\n            && Jupyter.notebook.config.data.load_extensions\\n        );\\n        if (extensions && extensions[\\\"webio-jupyter-notebook\\\"]) {\\n            // Extension already loaded.\\n            console.log(\\\"Jupyter WebIO nbextension detected; not loading ad-hoc.\\\");\\n            hide();\\n            return;\\n        }\\n    } else if (window.location.pathname.includes(\\\"/lab\\\")) {\\n        // Guessing JupyterLa\\n        console.log(\\\"Jupyter Lab detected; make sure the @webio/jupyter-lab-provider labextension is installed.\\\");\\n        hide();\\n        return;\\n    }\\n})();\\n\\n</script>\\n<p\\n    id=\\\"webio-warning-5668640624469990678\\\"\\n    class=\\\"output_text output_stderr\\\"\\n    style=\\\"padding: 1em; font-weight: bold;\\\"\\n>\\n    Unable to load WebIO. Please make sure WebIO works for your Jupyter client.\\n    For troubleshooting, please see <a href=\\\"https://juliagizmos.github.io/WebIO.jl/latest/providers/ijulia/\\\">\\n    the WebIO/IJulia documentation</a>.\\n    <!-- TODO: link to installation docs. -->\\n</p>\\n\")"
      ]
     },
     "metadata": {},
     "output_type": "display_data"
    },
    {
     "data": {
      "text/plain": [
       "dcfwd (generic function with 1 method)"
      ]
     },
     "execution_count": 1,
     "metadata": {},
     "output_type": "execute_result"
    }
   ],
   "source": [
    "using PyPlot\n",
    "using Interact\n",
    "include(\"dcfwd.jl\")"
   ]
  },
  {
   "cell_type": "markdown",
   "metadata": {},
   "source": [
    "Wir erzeugen zunächst ein paar synthetische Daten und wählen als Modell einen horizontalen Dreischichtfall."
   ]
  },
  {
   "cell_type": "code",
   "execution_count": 6,
   "metadata": {},
   "outputs": [],
   "source": [
    "AB_2 = [1.0, 1.3, 1.8, 2.4, 3.2, 4.2, 5.6, 7.5, 10.0, 13.0, 18.0, 24.0, 32.0, 42.0, 56.0];\n",
    "rho_s = dcfwd(AB_2, [200.0, 10.0, 1000.0], [3.0, 1.0]);"
   ]
  },
  {
   "cell_type": "markdown",
   "metadata": {},
   "source": [
    "Die folgende Zelle erlaubt die interaktive Anpassung der fünf Modellparameter, wobei für die Parameter jeweils sinnvolle Grenzen und Schrittweiten vorgegeben werden müssen."
   ]
  },
  {
   "cell_type": "code",
   "execution_count": 27,
   "metadata": {},
   "outputs": [
    {
     "data": {
      "application/vnd.webio.node+json": {
       "children": [
        {
         "children": [
          {
           "children": [
            {
             "children": [
              {
               "children": [
                {
                 "children": [
                  "r1"
                 ],
                 "instanceArgs": {
                  "namespace": "html",
                  "tag": "label"
                 },
                 "nodeType": "DOM",
                 "props": {
                  "className": "interact ",
                  "style": {
                   "padding": "5px 10px 0px 10px"
                  }
                 },
                 "type": "node"
                }
               ],
               "instanceArgs": {
                "namespace": "html",
                "tag": "div"
               },
               "nodeType": "DOM",
               "props": {
                "className": "interact-flex-row-left"
               },
               "type": "node"
              },
              {
               "children": [
                {
                 "children": [],
                 "instanceArgs": {
                  "namespace": "html",
                  "tag": "input"
                 },
                 "nodeType": "DOM",
                 "props": {
                  "attributes": {
                   "data-bind": "numericValue: index, valueUpdate: 'input', event: {change: function (){this.changes(this.changes()+1)}}",
                   "orient": "horizontal",
                   "type": "range"
                  },
                  "className": "slider slider is-fullwidth",
                  "max": 50,
                  "min": 1,
                  "step": 1,
                  "style": {}
                 },
                 "type": "node"
                }
               ],
               "instanceArgs": {
                "namespace": "html",
                "tag": "div"
               },
               "nodeType": "DOM",
               "props": {
                "className": "interact-flex-row-center"
               },
               "type": "node"
              },
              {
               "children": [
                {
                 "children": [],
                 "instanceArgs": {
                  "namespace": "html",
                  "tag": "p"
                 },
                 "nodeType": "DOM",
                 "props": {
                  "attributes": {
                   "data-bind": "text: formatted_val"
                  }
                 },
                 "type": "node"
                }
               ],
               "instanceArgs": {
                "namespace": "html",
                "tag": "div"
               },
               "nodeType": "DOM",
               "props": {
                "className": "interact-flex-row-right"
               },
               "type": "node"
              }
             ],
             "instanceArgs": {
              "namespace": "html",
              "tag": "div"
             },
             "nodeType": "DOM",
             "props": {
              "className": "interact-flex-row interact-widget"
             },
             "type": "node"
            }
           ],
           "instanceArgs": {
            "handlers": {
             "changes": [
              "(function (val){return (val!=this.model[\"changes\"]()) ? (this.valueFromJulia[\"changes\"]=true, this.model[\"changes\"](val)) : undefined})"
             ],
             "index": [
              "(function (val){return (val!=this.model[\"index\"]()) ? (this.valueFromJulia[\"index\"]=true, this.model[\"index\"](val)) : undefined})"
             ]
            },
            "id": "4785681928698429954",
            "imports": {
             "data": [
              {
               "name": "knockout",
               "type": "js",
               "url": "/assetserver/4db391fba1d49cbca35f2d6951146a79e25f3eb1-knockout.js"
              },
              {
               "name": "knockout_punches",
               "type": "js",
               "url": "/assetserver/cc4d99a1557ede7cd7c345ce28fa3301304297f4-knockout_punches.js"
              },
              {
               "name": null,
               "type": "js",
               "url": "/assetserver/bbb8c9c0872e5f271cf9ff37a69b93b417eb6280-all.js"
              },
              {
               "name": null,
               "type": "css",
               "url": "/assetserver/780ed0dfd62e5ae47c97952677e7808fdff6aa2c-style.css"
              },
              {
               "name": null,
               "type": "css",
               "url": "/assetserver/50eff6933fe877b2fe06fb5f8e547b5a739bcbb9-bulma_confined.min.css"
              }
             ],
             "type": "async_block"
            },
            "mount_callbacks": [
             "function () {\n    var handler = (function (ko, koPunches) {\n    ko.punches.enableAll();\n    ko.bindingHandlers.numericValue = {\n        init: function(element, valueAccessor, allBindings, data, context) {\n            var stringified = ko.observable(ko.unwrap(valueAccessor()));\n            stringified.subscribe(function(value) {\n                var val = parseFloat(value);\n                if (!isNaN(val)) {\n                    valueAccessor()(val);\n                }\n            });\n            valueAccessor().subscribe(function(value) {\n                var str = JSON.stringify(value);\n                if ((str == \"0\") && ([\"-0\", \"-0.\"].indexOf(stringified()) >= 0))\n                     return;\n                 if ([\"null\", \"\"].indexOf(str) >= 0)\n                     return;\n                stringified(str);\n            });\n            ko.applyBindingsToNode(\n                element,\n                {\n                    value: stringified,\n                    valueUpdate: allBindings.get('valueUpdate'),\n                },\n                context,\n            );\n        }\n    };\n    var json_data = {\"formatted_vals\":[\"10\",\"20\",\"30\",\"40\",\"50\",\"60\",\"70\",\"80\",\"90\",\"100\",\"110\",\"120\",\"130\",\"140\",\"150\",\"160\",\"170\",\"180\",\"190\",\"200\",\"210\",\"220\",\"230\",\"240\",\"250\",\"260\",\"270\",\"280\",\"290\",\"300\",\"310\",\"320\",\"330\",\"340\",\"350\",\"360\",\"370\",\"380\",\"390\",\"400\",\"410\",\"420\",\"430\",\"440\",\"450\",\"460\",\"470\",\"480\",\"490\",\"500\"],\"changes\":WebIO.getval({\"name\":\"changes\",\"scope\":\"4785681928698429954\",\"id\":\"ob_239\",\"type\":\"observable\"}),\"index\":WebIO.getval({\"name\":\"index\",\"scope\":\"4785681928698429954\",\"id\":\"ob_238\",\"type\":\"observable\"})};\n    var self = this;\n    function AppViewModel() {\n        for (var key in json_data) {\n            var el = json_data[key];\n            this[key] = Array.isArray(el) ? ko.observableArray(el) : ko.observable(el);\n        }\n        \n        [this[\"formatted_val\"]=ko.computed(    function(){\n        return this.formatted_vals()[parseInt(this.index())-(1)];\n    }\n,this)]\n        [this[\"changes\"].subscribe((function (val){!(this.valueFromJulia[\"changes\"]) ? (WebIO.setval({\"name\":\"changes\",\"scope\":\"4785681928698429954\",\"id\":\"ob_239\",\"type\":\"observable\"},val)) : undefined; return this.valueFromJulia[\"changes\"]=false}),self),this[\"index\"].subscribe((function (val){!(this.valueFromJulia[\"index\"]) ? (WebIO.setval({\"name\":\"index\",\"scope\":\"4785681928698429954\",\"id\":\"ob_238\",\"type\":\"observable\"},val)) : undefined; return this.valueFromJulia[\"index\"]=false}),self)]\n        \n    }\n    self.model = new AppViewModel();\n    self.valueFromJulia = {};\n    for (var key in json_data) {\n        self.valueFromJulia[key] = false;\n    }\n    ko.applyBindings(self.model, self.dom);\n}\n);\n    (WebIO.importBlock({\"data\":[{\"name\":\"knockout\",\"type\":\"js\",\"url\":\"/assetserver/4db391fba1d49cbca35f2d6951146a79e25f3eb1-knockout.js\"},{\"name\":\"knockout_punches\",\"type\":\"js\",\"url\":\"/assetserver/cc4d99a1557ede7cd7c345ce28fa3301304297f4-knockout_punches.js\"}],\"type\":\"async_block\"})).then((imports) => handler.apply(this, imports));\n}\n"
            ],
            "observables": {
             "changes": {
              "id": "ob_239",
              "sync": false,
              "value": 0
             },
             "index": {
              "id": "ob_238",
              "sync": true,
              "value": 25
             }
            },
            "systemjs_options": null
           },
           "nodeType": "Scope",
           "props": {},
           "type": "node"
          }
         ],
         "instanceArgs": {
          "namespace": "html",
          "tag": "div"
         },
         "nodeType": "DOM",
         "props": {
          "className": "field interact-widget"
         },
         "type": "node"
        },
        {
         "children": [
          {
           "children": [
            {
             "children": [
              {
               "children": [
                {
                 "children": [
                  "r2"
                 ],
                 "instanceArgs": {
                  "namespace": "html",
                  "tag": "label"
                 },
                 "nodeType": "DOM",
                 "props": {
                  "className": "interact ",
                  "style": {
                   "padding": "5px 10px 0px 10px"
                  }
                 },
                 "type": "node"
                }
               ],
               "instanceArgs": {
                "namespace": "html",
                "tag": "div"
               },
               "nodeType": "DOM",
               "props": {
                "className": "interact-flex-row-left"
               },
               "type": "node"
              },
              {
               "children": [
                {
                 "children": [],
                 "instanceArgs": {
                  "namespace": "html",
                  "tag": "input"
                 },
                 "nodeType": "DOM",
                 "props": {
                  "attributes": {
                   "data-bind": "numericValue: index, valueUpdate: 'input', event: {change: function (){this.changes(this.changes()+1)}}",
                   "orient": "horizontal",
                   "type": "range"
                  },
                  "className": "slider slider is-fullwidth",
                  "max": 50,
                  "min": 1,
                  "step": 1,
                  "style": {}
                 },
                 "type": "node"
                }
               ],
               "instanceArgs": {
                "namespace": "html",
                "tag": "div"
               },
               "nodeType": "DOM",
               "props": {
                "className": "interact-flex-row-center"
               },
               "type": "node"
              },
              {
               "children": [
                {
                 "children": [],
                 "instanceArgs": {
                  "namespace": "html",
                  "tag": "p"
                 },
                 "nodeType": "DOM",
                 "props": {
                  "attributes": {
                   "data-bind": "text: formatted_val"
                  }
                 },
                 "type": "node"
                }
               ],
               "instanceArgs": {
                "namespace": "html",
                "tag": "div"
               },
               "nodeType": "DOM",
               "props": {
                "className": "interact-flex-row-right"
               },
               "type": "node"
              }
             ],
             "instanceArgs": {
              "namespace": "html",
              "tag": "div"
             },
             "nodeType": "DOM",
             "props": {
              "className": "interact-flex-row interact-widget"
             },
             "type": "node"
            }
           ],
           "instanceArgs": {
            "handlers": {
             "changes": [
              "(function (val){return (val!=this.model[\"changes\"]()) ? (this.valueFromJulia[\"changes\"]=true, this.model[\"changes\"](val)) : undefined})"
             ],
             "index": [
              "(function (val){return (val!=this.model[\"index\"]()) ? (this.valueFromJulia[\"index\"]=true, this.model[\"index\"](val)) : undefined})"
             ]
            },
            "id": "5670239102370823478",
            "imports": {
             "data": [
              {
               "name": "knockout",
               "type": "js",
               "url": "/assetserver/4db391fba1d49cbca35f2d6951146a79e25f3eb1-knockout.js"
              },
              {
               "name": "knockout_punches",
               "type": "js",
               "url": "/assetserver/cc4d99a1557ede7cd7c345ce28fa3301304297f4-knockout_punches.js"
              },
              {
               "name": null,
               "type": "js",
               "url": "/assetserver/bbb8c9c0872e5f271cf9ff37a69b93b417eb6280-all.js"
              },
              {
               "name": null,
               "type": "css",
               "url": "/assetserver/780ed0dfd62e5ae47c97952677e7808fdff6aa2c-style.css"
              },
              {
               "name": null,
               "type": "css",
               "url": "/assetserver/50eff6933fe877b2fe06fb5f8e547b5a739bcbb9-bulma_confined.min.css"
              }
             ],
             "type": "async_block"
            },
            "mount_callbacks": [
             "function () {\n    var handler = (function (ko, koPunches) {\n    ko.punches.enableAll();\n    ko.bindingHandlers.numericValue = {\n        init: function(element, valueAccessor, allBindings, data, context) {\n            var stringified = ko.observable(ko.unwrap(valueAccessor()));\n            stringified.subscribe(function(value) {\n                var val = parseFloat(value);\n                if (!isNaN(val)) {\n                    valueAccessor()(val);\n                }\n            });\n            valueAccessor().subscribe(function(value) {\n                var str = JSON.stringify(value);\n                if ((str == \"0\") && ([\"-0\", \"-0.\"].indexOf(stringified()) >= 0))\n                     return;\n                 if ([\"null\", \"\"].indexOf(str) >= 0)\n                     return;\n                stringified(str);\n            });\n            ko.applyBindingsToNode(\n                element,\n                {\n                    value: stringified,\n                    valueUpdate: allBindings.get('valueUpdate'),\n                },\n                context,\n            );\n        }\n    };\n    var json_data = {\"formatted_vals\":[\"10\",\"20\",\"30\",\"40\",\"50\",\"60\",\"70\",\"80\",\"90\",\"100\",\"110\",\"120\",\"130\",\"140\",\"150\",\"160\",\"170\",\"180\",\"190\",\"200\",\"210\",\"220\",\"230\",\"240\",\"250\",\"260\",\"270\",\"280\",\"290\",\"300\",\"310\",\"320\",\"330\",\"340\",\"350\",\"360\",\"370\",\"380\",\"390\",\"400\",\"410\",\"420\",\"430\",\"440\",\"450\",\"460\",\"470\",\"480\",\"490\",\"500\"],\"changes\":WebIO.getval({\"name\":\"changes\",\"scope\":\"5670239102370823478\",\"id\":\"ob_242\",\"type\":\"observable\"}),\"index\":WebIO.getval({\"name\":\"index\",\"scope\":\"5670239102370823478\",\"id\":\"ob_241\",\"type\":\"observable\"})};\n    var self = this;\n    function AppViewModel() {\n        for (var key in json_data) {\n            var el = json_data[key];\n            this[key] = Array.isArray(el) ? ko.observableArray(el) : ko.observable(el);\n        }\n        \n        [this[\"formatted_val\"]=ko.computed(    function(){\n        return this.formatted_vals()[parseInt(this.index())-(1)];\n    }\n,this)]\n        [this[\"changes\"].subscribe((function (val){!(this.valueFromJulia[\"changes\"]) ? (WebIO.setval({\"name\":\"changes\",\"scope\":\"5670239102370823478\",\"id\":\"ob_242\",\"type\":\"observable\"},val)) : undefined; return this.valueFromJulia[\"changes\"]=false}),self),this[\"index\"].subscribe((function (val){!(this.valueFromJulia[\"index\"]) ? (WebIO.setval({\"name\":\"index\",\"scope\":\"5670239102370823478\",\"id\":\"ob_241\",\"type\":\"observable\"},val)) : undefined; return this.valueFromJulia[\"index\"]=false}),self)]\n        \n    }\n    self.model = new AppViewModel();\n    self.valueFromJulia = {};\n    for (var key in json_data) {\n        self.valueFromJulia[key] = false;\n    }\n    ko.applyBindings(self.model, self.dom);\n}\n);\n    (WebIO.importBlock({\"data\":[{\"name\":\"knockout\",\"type\":\"js\",\"url\":\"/assetserver/4db391fba1d49cbca35f2d6951146a79e25f3eb1-knockout.js\"},{\"name\":\"knockout_punches\",\"type\":\"js\",\"url\":\"/assetserver/cc4d99a1557ede7cd7c345ce28fa3301304297f4-knockout_punches.js\"}],\"type\":\"async_block\"})).then((imports) => handler.apply(this, imports));\n}\n"
            ],
            "observables": {
             "changes": {
              "id": "ob_242",
              "sync": false,
              "value": 0
             },
             "index": {
              "id": "ob_241",
              "sync": true,
              "value": 25
             }
            },
            "systemjs_options": null
           },
           "nodeType": "Scope",
           "props": {},
           "type": "node"
          }
         ],
         "instanceArgs": {
          "namespace": "html",
          "tag": "div"
         },
         "nodeType": "DOM",
         "props": {
          "className": "field interact-widget"
         },
         "type": "node"
        },
        {
         "children": [
          {
           "children": [
            {
             "children": [
              {
               "children": [
                {
                 "children": [
                  "r3"
                 ],
                 "instanceArgs": {
                  "namespace": "html",
                  "tag": "label"
                 },
                 "nodeType": "DOM",
                 "props": {
                  "className": "interact ",
                  "style": {
                   "padding": "5px 10px 0px 10px"
                  }
                 },
                 "type": "node"
                }
               ],
               "instanceArgs": {
                "namespace": "html",
                "tag": "div"
               },
               "nodeType": "DOM",
               "props": {
                "className": "interact-flex-row-left"
               },
               "type": "node"
              },
              {
               "children": [
                {
                 "children": [],
                 "instanceArgs": {
                  "namespace": "html",
                  "tag": "input"
                 },
                 "nodeType": "DOM",
                 "props": {
                  "attributes": {
                   "data-bind": "numericValue: index, valueUpdate: 'input', event: {change: function (){this.changes(this.changes()+1)}}",
                   "orient": "horizontal",
                   "type": "range"
                  },
                  "className": "slider slider is-fullwidth",
                  "max": 41,
                  "min": 1,
                  "step": 1,
                  "style": {}
                 },
                 "type": "node"
                }
               ],
               "instanceArgs": {
                "namespace": "html",
                "tag": "div"
               },
               "nodeType": "DOM",
               "props": {
                "className": "interact-flex-row-center"
               },
               "type": "node"
              },
              {
               "children": [
                {
                 "children": [],
                 "instanceArgs": {
                  "namespace": "html",
                  "tag": "p"
                 },
                 "nodeType": "DOM",
                 "props": {
                  "attributes": {
                   "data-bind": "text: formatted_val"
                  }
                 },
                 "type": "node"
                }
               ],
               "instanceArgs": {
                "namespace": "html",
                "tag": "div"
               },
               "nodeType": "DOM",
               "props": {
                "className": "interact-flex-row-right"
               },
               "type": "node"
              }
             ],
             "instanceArgs": {
              "namespace": "html",
              "tag": "div"
             },
             "nodeType": "DOM",
             "props": {
              "className": "interact-flex-row interact-widget"
             },
             "type": "node"
            }
           ],
           "instanceArgs": {
            "handlers": {
             "changes": [
              "(function (val){return (val!=this.model[\"changes\"]()) ? (this.valueFromJulia[\"changes\"]=true, this.model[\"changes\"](val)) : undefined})"
             ],
             "index": [
              "(function (val){return (val!=this.model[\"index\"]()) ? (this.valueFromJulia[\"index\"]=true, this.model[\"index\"](val)) : undefined})"
             ]
            },
            "id": "4578548551550199763",
            "imports": {
             "data": [
              {
               "name": "knockout",
               "type": "js",
               "url": "/assetserver/4db391fba1d49cbca35f2d6951146a79e25f3eb1-knockout.js"
              },
              {
               "name": "knockout_punches",
               "type": "js",
               "url": "/assetserver/cc4d99a1557ede7cd7c345ce28fa3301304297f4-knockout_punches.js"
              },
              {
               "name": null,
               "type": "js",
               "url": "/assetserver/bbb8c9c0872e5f271cf9ff37a69b93b417eb6280-all.js"
              },
              {
               "name": null,
               "type": "css",
               "url": "/assetserver/780ed0dfd62e5ae47c97952677e7808fdff6aa2c-style.css"
              },
              {
               "name": null,
               "type": "css",
               "url": "/assetserver/50eff6933fe877b2fe06fb5f8e547b5a739bcbb9-bulma_confined.min.css"
              }
             ],
             "type": "async_block"
            },
            "mount_callbacks": [
             "function () {\n    var handler = (function (ko, koPunches) {\n    ko.punches.enableAll();\n    ko.bindingHandlers.numericValue = {\n        init: function(element, valueAccessor, allBindings, data, context) {\n            var stringified = ko.observable(ko.unwrap(valueAccessor()));\n            stringified.subscribe(function(value) {\n                var val = parseFloat(value);\n                if (!isNaN(val)) {\n                    valueAccessor()(val);\n                }\n            });\n            valueAccessor().subscribe(function(value) {\n                var str = JSON.stringify(value);\n                if ((str == \"0\") && ([\"-0\", \"-0.\"].indexOf(stringified()) >= 0))\n                     return;\n                 if ([\"null\", \"\"].indexOf(str) >= 0)\n                     return;\n                stringified(str);\n            });\n            ko.applyBindingsToNode(\n                element,\n                {\n                    value: stringified,\n                    valueUpdate: allBindings.get('valueUpdate'),\n                },\n                context,\n            );\n        }\n    };\n    var json_data = {\"formatted_vals\":[\"800\",\"810\",\"820\",\"830\",\"840\",\"850\",\"860\",\"870\",\"880\",\"890\",\"900\",\"910\",\"920\",\"930\",\"940\",\"950\",\"960\",\"970\",\"980\",\"990\",\"1000\",\"1010\",\"1020\",\"1030\",\"1040\",\"1050\",\"1060\",\"1070\",\"1080\",\"1090\",\"1100\",\"1110\",\"1120\",\"1130\",\"1140\",\"1150\",\"1160\",\"1170\",\"1180\",\"1190\",\"1200\"],\"changes\":WebIO.getval({\"name\":\"changes\",\"scope\":\"4578548551550199763\",\"id\":\"ob_245\",\"type\":\"observable\"}),\"index\":WebIO.getval({\"name\":\"index\",\"scope\":\"4578548551550199763\",\"id\":\"ob_244\",\"type\":\"observable\"})};\n    var self = this;\n    function AppViewModel() {\n        for (var key in json_data) {\n            var el = json_data[key];\n            this[key] = Array.isArray(el) ? ko.observableArray(el) : ko.observable(el);\n        }\n        \n        [this[\"formatted_val\"]=ko.computed(    function(){\n        return this.formatted_vals()[parseInt(this.index())-(1)];\n    }\n,this)]\n        [this[\"changes\"].subscribe((function (val){!(this.valueFromJulia[\"changes\"]) ? (WebIO.setval({\"name\":\"changes\",\"scope\":\"4578548551550199763\",\"id\":\"ob_245\",\"type\":\"observable\"},val)) : undefined; return this.valueFromJulia[\"changes\"]=false}),self),this[\"index\"].subscribe((function (val){!(this.valueFromJulia[\"index\"]) ? (WebIO.setval({\"name\":\"index\",\"scope\":\"4578548551550199763\",\"id\":\"ob_244\",\"type\":\"observable\"},val)) : undefined; return this.valueFromJulia[\"index\"]=false}),self)]\n        \n    }\n    self.model = new AppViewModel();\n    self.valueFromJulia = {};\n    for (var key in json_data) {\n        self.valueFromJulia[key] = false;\n    }\n    ko.applyBindings(self.model, self.dom);\n}\n);\n    (WebIO.importBlock({\"data\":[{\"name\":\"knockout\",\"type\":\"js\",\"url\":\"/assetserver/4db391fba1d49cbca35f2d6951146a79e25f3eb1-knockout.js\"},{\"name\":\"knockout_punches\",\"type\":\"js\",\"url\":\"/assetserver/cc4d99a1557ede7cd7c345ce28fa3301304297f4-knockout_punches.js\"}],\"type\":\"async_block\"})).then((imports) => handler.apply(this, imports));\n}\n"
            ],
            "observables": {
             "changes": {
              "id": "ob_245",
              "sync": false,
              "value": 0
             },
             "index": {
              "id": "ob_244",
              "sync": true,
              "value": 21
             }
            },
            "systemjs_options": null
           },
           "nodeType": "Scope",
           "props": {},
           "type": "node"
          }
         ],
         "instanceArgs": {
          "namespace": "html",
          "tag": "div"
         },
         "nodeType": "DOM",
         "props": {
          "className": "field interact-widget"
         },
         "type": "node"
        },
        {
         "children": [
          {
           "children": [
            {
             "children": [
              {
               "children": [
                {
                 "children": [
                  "h1"
                 ],
                 "instanceArgs": {
                  "namespace": "html",
                  "tag": "label"
                 },
                 "nodeType": "DOM",
                 "props": {
                  "className": "interact ",
                  "style": {
                   "padding": "5px 10px 0px 10px"
                  }
                 },
                 "type": "node"
                }
               ],
               "instanceArgs": {
                "namespace": "html",
                "tag": "div"
               },
               "nodeType": "DOM",
               "props": {
                "className": "interact-flex-row-left"
               },
               "type": "node"
              },
              {
               "children": [
                {
                 "children": [],
                 "instanceArgs": {
                  "namespace": "html",
                  "tag": "input"
                 },
                 "nodeType": "DOM",
                 "props": {
                  "attributes": {
                   "data-bind": "numericValue: index, valueUpdate: 'input', event: {change: function (){this.changes(this.changes()+1)}}",
                   "orient": "horizontal",
                   "type": "range"
                  },
                  "className": "slider slider is-fullwidth",
                  "max": 10,
                  "min": 1,
                  "step": 1,
                  "style": {}
                 },
                 "type": "node"
                }
               ],
               "instanceArgs": {
                "namespace": "html",
                "tag": "div"
               },
               "nodeType": "DOM",
               "props": {
                "className": "interact-flex-row-center"
               },
               "type": "node"
              },
              {
               "children": [
                {
                 "children": [],
                 "instanceArgs": {
                  "namespace": "html",
                  "tag": "p"
                 },
                 "nodeType": "DOM",
                 "props": {
                  "attributes": {
                   "data-bind": "text: formatted_val"
                  }
                 },
                 "type": "node"
                }
               ],
               "instanceArgs": {
                "namespace": "html",
                "tag": "div"
               },
               "nodeType": "DOM",
               "props": {
                "className": "interact-flex-row-right"
               },
               "type": "node"
              }
             ],
             "instanceArgs": {
              "namespace": "html",
              "tag": "div"
             },
             "nodeType": "DOM",
             "props": {
              "className": "interact-flex-row interact-widget"
             },
             "type": "node"
            }
           ],
           "instanceArgs": {
            "handlers": {
             "changes": [
              "(function (val){return (val!=this.model[\"changes\"]()) ? (this.valueFromJulia[\"changes\"]=true, this.model[\"changes\"](val)) : undefined})"
             ],
             "index": [
              "(function (val){return (val!=this.model[\"index\"]()) ? (this.valueFromJulia[\"index\"]=true, this.model[\"index\"](val)) : undefined})"
             ]
            },
            "id": "2757866629936152452",
            "imports": {
             "data": [
              {
               "name": "knockout",
               "type": "js",
               "url": "/assetserver/4db391fba1d49cbca35f2d6951146a79e25f3eb1-knockout.js"
              },
              {
               "name": "knockout_punches",
               "type": "js",
               "url": "/assetserver/cc4d99a1557ede7cd7c345ce28fa3301304297f4-knockout_punches.js"
              },
              {
               "name": null,
               "type": "js",
               "url": "/assetserver/bbb8c9c0872e5f271cf9ff37a69b93b417eb6280-all.js"
              },
              {
               "name": null,
               "type": "css",
               "url": "/assetserver/780ed0dfd62e5ae47c97952677e7808fdff6aa2c-style.css"
              },
              {
               "name": null,
               "type": "css",
               "url": "/assetserver/50eff6933fe877b2fe06fb5f8e547b5a739bcbb9-bulma_confined.min.css"
              }
             ],
             "type": "async_block"
            },
            "mount_callbacks": [
             "function () {\n    var handler = (function (ko, koPunches) {\n    ko.punches.enableAll();\n    ko.bindingHandlers.numericValue = {\n        init: function(element, valueAccessor, allBindings, data, context) {\n            var stringified = ko.observable(ko.unwrap(valueAccessor()));\n            stringified.subscribe(function(value) {\n                var val = parseFloat(value);\n                if (!isNaN(val)) {\n                    valueAccessor()(val);\n                }\n            });\n            valueAccessor().subscribe(function(value) {\n                var str = JSON.stringify(value);\n                if ((str == \"0\") && ([\"-0\", \"-0.\"].indexOf(stringified()) >= 0))\n                     return;\n                 if ([\"null\", \"\"].indexOf(str) >= 0)\n                     return;\n                stringified(str);\n            });\n            ko.applyBindingsToNode(\n                element,\n                {\n                    value: stringified,\n                    valueUpdate: allBindings.get('valueUpdate'),\n                },\n                context,\n            );\n        }\n    };\n    var json_data = {\"formatted_vals\":[\"1\",\"2\",\"3\",\"4\",\"5\",\"6\",\"7\",\"8\",\"9\",\"10\"],\"changes\":WebIO.getval({\"name\":\"changes\",\"scope\":\"2757866629936152452\",\"id\":\"ob_247\",\"type\":\"observable\"}),\"index\":WebIO.getval({\"name\":\"index\",\"scope\":\"2757866629936152452\",\"id\":\"ob_246\",\"type\":\"observable\"})};\n    var self = this;\n    function AppViewModel() {\n        for (var key in json_data) {\n            var el = json_data[key];\n            this[key] = Array.isArray(el) ? ko.observableArray(el) : ko.observable(el);\n        }\n        \n        [this[\"formatted_val\"]=ko.computed(    function(){\n        return this.formatted_vals()[parseInt(this.index())-(1)];\n    }\n,this)]\n        [this[\"changes\"].subscribe((function (val){!(this.valueFromJulia[\"changes\"]) ? (WebIO.setval({\"name\":\"changes\",\"scope\":\"2757866629936152452\",\"id\":\"ob_247\",\"type\":\"observable\"},val)) : undefined; return this.valueFromJulia[\"changes\"]=false}),self),this[\"index\"].subscribe((function (val){!(this.valueFromJulia[\"index\"]) ? (WebIO.setval({\"name\":\"index\",\"scope\":\"2757866629936152452\",\"id\":\"ob_246\",\"type\":\"observable\"},val)) : undefined; return this.valueFromJulia[\"index\"]=false}),self)]\n        \n    }\n    self.model = new AppViewModel();\n    self.valueFromJulia = {};\n    for (var key in json_data) {\n        self.valueFromJulia[key] = false;\n    }\n    ko.applyBindings(self.model, self.dom);\n}\n);\n    (WebIO.importBlock({\"data\":[{\"name\":\"knockout\",\"type\":\"js\",\"url\":\"/assetserver/4db391fba1d49cbca35f2d6951146a79e25f3eb1-knockout.js\"},{\"name\":\"knockout_punches\",\"type\":\"js\",\"url\":\"/assetserver/cc4d99a1557ede7cd7c345ce28fa3301304297f4-knockout_punches.js\"}],\"type\":\"async_block\"})).then((imports) => handler.apply(this, imports));\n}\n"
            ],
            "observables": {
             "changes": {
              "id": "ob_247",
              "sync": false,
              "value": 0
             },
             "index": {
              "id": "ob_246",
              "sync": true,
              "value": 5
             }
            },
            "systemjs_options": null
           },
           "nodeType": "Scope",
           "props": {},
           "type": "node"
          }
         ],
         "instanceArgs": {
          "namespace": "html",
          "tag": "div"
         },
         "nodeType": "DOM",
         "props": {
          "className": "field interact-widget"
         },
         "type": "node"
        },
        {
         "children": [
          {
           "children": [
            {
             "children": [
              {
               "children": [
                {
                 "children": [
                  "h2"
                 ],
                 "instanceArgs": {
                  "namespace": "html",
                  "tag": "label"
                 },
                 "nodeType": "DOM",
                 "props": {
                  "className": "interact ",
                  "style": {
                   "padding": "5px 10px 0px 10px"
                  }
                 },
                 "type": "node"
                }
               ],
               "instanceArgs": {
                "namespace": "html",
                "tag": "div"
               },
               "nodeType": "DOM",
               "props": {
                "className": "interact-flex-row-left"
               },
               "type": "node"
              },
              {
               "children": [
                {
                 "children": [],
                 "instanceArgs": {
                  "namespace": "html",
                  "tag": "input"
                 },
                 "nodeType": "DOM",
                 "props": {
                  "attributes": {
                   "data-bind": "numericValue: index, valueUpdate: 'input', event: {change: function (){this.changes(this.changes()+1)}}",
                   "orient": "horizontal",
                   "type": "range"
                  },
                  "className": "slider slider is-fullwidth",
                  "max": 10,
                  "min": 1,
                  "step": 1,
                  "style": {}
                 },
                 "type": "node"
                }
               ],
               "instanceArgs": {
                "namespace": "html",
                "tag": "div"
               },
               "nodeType": "DOM",
               "props": {
                "className": "interact-flex-row-center"
               },
               "type": "node"
              },
              {
               "children": [
                {
                 "children": [],
                 "instanceArgs": {
                  "namespace": "html",
                  "tag": "p"
                 },
                 "nodeType": "DOM",
                 "props": {
                  "attributes": {
                   "data-bind": "text: formatted_val"
                  }
                 },
                 "type": "node"
                }
               ],
               "instanceArgs": {
                "namespace": "html",
                "tag": "div"
               },
               "nodeType": "DOM",
               "props": {
                "className": "interact-flex-row-right"
               },
               "type": "node"
              }
             ],
             "instanceArgs": {
              "namespace": "html",
              "tag": "div"
             },
             "nodeType": "DOM",
             "props": {
              "className": "interact-flex-row interact-widget"
             },
             "type": "node"
            }
           ],
           "instanceArgs": {
            "handlers": {
             "changes": [
              "(function (val){return (val!=this.model[\"changes\"]()) ? (this.valueFromJulia[\"changes\"]=true, this.model[\"changes\"](val)) : undefined})"
             ],
             "index": [
              "(function (val){return (val!=this.model[\"index\"]()) ? (this.valueFromJulia[\"index\"]=true, this.model[\"index\"](val)) : undefined})"
             ]
            },
            "id": "749916285058641038",
            "imports": {
             "data": [
              {
               "name": "knockout",
               "type": "js",
               "url": "/assetserver/4db391fba1d49cbca35f2d6951146a79e25f3eb1-knockout.js"
              },
              {
               "name": "knockout_punches",
               "type": "js",
               "url": "/assetserver/cc4d99a1557ede7cd7c345ce28fa3301304297f4-knockout_punches.js"
              },
              {
               "name": null,
               "type": "js",
               "url": "/assetserver/bbb8c9c0872e5f271cf9ff37a69b93b417eb6280-all.js"
              },
              {
               "name": null,
               "type": "css",
               "url": "/assetserver/780ed0dfd62e5ae47c97952677e7808fdff6aa2c-style.css"
              },
              {
               "name": null,
               "type": "css",
               "url": "/assetserver/50eff6933fe877b2fe06fb5f8e547b5a739bcbb9-bulma_confined.min.css"
              }
             ],
             "type": "async_block"
            },
            "mount_callbacks": [
             "function () {\n    var handler = (function (ko, koPunches) {\n    ko.punches.enableAll();\n    ko.bindingHandlers.numericValue = {\n        init: function(element, valueAccessor, allBindings, data, context) {\n            var stringified = ko.observable(ko.unwrap(valueAccessor()));\n            stringified.subscribe(function(value) {\n                var val = parseFloat(value);\n                if (!isNaN(val)) {\n                    valueAccessor()(val);\n                }\n            });\n            valueAccessor().subscribe(function(value) {\n                var str = JSON.stringify(value);\n                if ((str == \"0\") && ([\"-0\", \"-0.\"].indexOf(stringified()) >= 0))\n                     return;\n                 if ([\"null\", \"\"].indexOf(str) >= 0)\n                     return;\n                stringified(str);\n            });\n            ko.applyBindingsToNode(\n                element,\n                {\n                    value: stringified,\n                    valueUpdate: allBindings.get('valueUpdate'),\n                },\n                context,\n            );\n        }\n    };\n    var json_data = {\"formatted_vals\":[\"1\",\"2\",\"3\",\"4\",\"5\",\"6\",\"7\",\"8\",\"9\",\"10\"],\"changes\":WebIO.getval({\"name\":\"changes\",\"scope\":\"749916285058641038\",\"id\":\"ob_249\",\"type\":\"observable\"}),\"index\":WebIO.getval({\"name\":\"index\",\"scope\":\"749916285058641038\",\"id\":\"ob_248\",\"type\":\"observable\"})};\n    var self = this;\n    function AppViewModel() {\n        for (var key in json_data) {\n            var el = json_data[key];\n            this[key] = Array.isArray(el) ? ko.observableArray(el) : ko.observable(el);\n        }\n        \n        [this[\"formatted_val\"]=ko.computed(    function(){\n        return this.formatted_vals()[parseInt(this.index())-(1)];\n    }\n,this)]\n        [this[\"changes\"].subscribe((function (val){!(this.valueFromJulia[\"changes\"]) ? (WebIO.setval({\"name\":\"changes\",\"scope\":\"749916285058641038\",\"id\":\"ob_249\",\"type\":\"observable\"},val)) : undefined; return this.valueFromJulia[\"changes\"]=false}),self),this[\"index\"].subscribe((function (val){!(this.valueFromJulia[\"index\"]) ? (WebIO.setval({\"name\":\"index\",\"scope\":\"749916285058641038\",\"id\":\"ob_248\",\"type\":\"observable\"},val)) : undefined; return this.valueFromJulia[\"index\"]=false}),self)]\n        \n    }\n    self.model = new AppViewModel();\n    self.valueFromJulia = {};\n    for (var key in json_data) {\n        self.valueFromJulia[key] = false;\n    }\n    ko.applyBindings(self.model, self.dom);\n}\n);\n    (WebIO.importBlock({\"data\":[{\"name\":\"knockout\",\"type\":\"js\",\"url\":\"/assetserver/4db391fba1d49cbca35f2d6951146a79e25f3eb1-knockout.js\"},{\"name\":\"knockout_punches\",\"type\":\"js\",\"url\":\"/assetserver/cc4d99a1557ede7cd7c345ce28fa3301304297f4-knockout_punches.js\"}],\"type\":\"async_block\"})).then((imports) => handler.apply(this, imports));\n}\n"
            ],
            "observables": {
             "changes": {
              "id": "ob_249",
              "sync": false,
              "value": 0
             },
             "index": {
              "id": "ob_248",
              "sync": true,
              "value": 5
             }
            },
            "systemjs_options": null
           },
           "nodeType": "Scope",
           "props": {},
           "type": "node"
          }
         ],
         "instanceArgs": {
          "namespace": "html",
          "tag": "div"
         },
         "nodeType": "DOM",
         "props": {
          "className": "field interact-widget"
         },
         "type": "node"
        },
        {
         "children": [
          {
           "children": [],
           "instanceArgs": {
            "id": "ob_255",
            "name": "obs-node"
           },
           "nodeType": "ObservableNode",
           "props": {},
           "type": "node"
          }
         ],
         "instanceArgs": {
          "handlers": {},
          "id": "7154246745117293523",
          "imports": {
           "data": [],
           "type": "async_block"
          },
          "mount_callbacks": [],
          "observables": {
           "obs-node": {
            "id": "ob_255",
            "sync": false,
            "value": {
             "children": [
              {
               "children": [],
               "instanceArgs": {
                "namespace": "html",
                "tag": "div"
               },
               "nodeType": "DOM",
               "props": {
                "setInnerHtml": "<img src='data:image/png;base64,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'></img>"
               },
               "type": "node"
              }
             ],
             "instanceArgs": {
              "namespace": "html",
              "tag": "div"
             },
             "nodeType": "DOM",
             "props": {
              "className": "interact-flex-row interact-widget"
             },
             "type": "node"
            }
           }
          },
          "systemjs_options": null
         },
         "nodeType": "Scope",
         "props": {},
         "type": "node"
        }
       ],
       "instanceArgs": {
        "namespace": "html",
        "tag": "div"
       },
       "nodeType": "DOM",
       "props": {},
       "type": "node"
      },
      "text/html": [
       "<div\n",
       "    class=\"webio-mountpoint\"\n",
       "    data-webio-mountpoint=\"15439329130715333058\"\n",
       ">\n",
       "    <script>\n",
       "    if (window.require && require.defined && require.defined(\"nbextensions/webio-jupyter-notebook\")) {\n",
       "        console.log(\"Jupyter WebIO extension detected, not mounting.\");\n",
       "    } else if (window.WebIO) {\n",
       "        WebIO.mount(\n",
       "            document.querySelector('[data-webio-mountpoint=\"15439329130715333058\"]'),\n",
       "            {\"props\":{},\"nodeType\":\"DOM\",\"type\":\"node\",\"instanceArgs\":{\"namespace\":\"html\",\"tag\":\"div\"},\"children\":[{\"props\":{\"className\":\"field interact-widget\"},\"nodeType\":\"DOM\",\"type\":\"node\",\"instanceArgs\":{\"namespace\":\"html\",\"tag\":\"div\"},\"children\":[{\"props\":{},\"nodeType\":\"Scope\",\"type\":\"node\",\"instanceArgs\":{\"imports\":{\"data\":[{\"name\":\"knockout\",\"type\":\"js\",\"url\":\"\\/assetserver\\/4db391fba1d49cbca35f2d6951146a79e25f3eb1-knockout.js\"},{\"name\":\"knockout_punches\",\"type\":\"js\",\"url\":\"\\/assetserver\\/cc4d99a1557ede7cd7c345ce28fa3301304297f4-knockout_punches.js\"},{\"name\":null,\"type\":\"js\",\"url\":\"\\/assetserver\\/bbb8c9c0872e5f271cf9ff37a69b93b417eb6280-all.js\"},{\"name\":null,\"type\":\"css\",\"url\":\"\\/assetserver\\/780ed0dfd62e5ae47c97952677e7808fdff6aa2c-style.css\"},{\"name\":null,\"type\":\"css\",\"url\":\"\\/assetserver\\/50eff6933fe877b2fe06fb5f8e547b5a739bcbb9-bulma_confined.min.css\"}],\"type\":\"async_block\"},\"id\":\"4785681928698429954\",\"handlers\":{\"changes\":[\"(function (val){return (val!=this.model[\\\"changes\\\"]()) ? (this.valueFromJulia[\\\"changes\\\"]=true, this.model[\\\"changes\\\"](val)) : undefined})\"],\"index\":[\"(function (val){return (val!=this.model[\\\"index\\\"]()) ? (this.valueFromJulia[\\\"index\\\"]=true, this.model[\\\"index\\\"](val)) : undefined})\"]},\"systemjs_options\":null,\"mount_callbacks\":[\"function () {\\n    var handler = (function (ko, koPunches) {\\n    ko.punches.enableAll();\\n    ko.bindingHandlers.numericValue = {\\n        init: function(element, valueAccessor, allBindings, data, context) {\\n            var stringified = ko.observable(ko.unwrap(valueAccessor()));\\n            stringified.subscribe(function(value) {\\n                var val = parseFloat(value);\\n                if (!isNaN(val)) {\\n                    valueAccessor()(val);\\n                }\\n            });\\n            valueAccessor().subscribe(function(value) {\\n                var str = JSON.stringify(value);\\n                if ((str == \\\"0\\\") && ([\\\"-0\\\", \\\"-0.\\\"].indexOf(stringified()) >= 0))\\n                     return;\\n                 if ([\\\"null\\\", \\\"\\\"].indexOf(str) >= 0)\\n                     return;\\n                stringified(str);\\n            });\\n            ko.applyBindingsToNode(\\n                element,\\n                {\\n                    value: stringified,\\n                    valueUpdate: allBindings.get('valueUpdate'),\\n                },\\n                context,\\n            );\\n        }\\n    };\\n    var json_data = {\\\"formatted_vals\\\":[\\\"10\\\",\\\"20\\\",\\\"30\\\",\\\"40\\\",\\\"50\\\",\\\"60\\\",\\\"70\\\",\\\"80\\\",\\\"90\\\",\\\"100\\\",\\\"110\\\",\\\"120\\\",\\\"130\\\",\\\"140\\\",\\\"150\\\",\\\"160\\\",\\\"170\\\",\\\"180\\\",\\\"190\\\",\\\"200\\\",\\\"210\\\",\\\"220\\\",\\\"230\\\",\\\"240\\\",\\\"250\\\",\\\"260\\\",\\\"270\\\",\\\"280\\\",\\\"290\\\",\\\"300\\\",\\\"310\\\",\\\"320\\\",\\\"330\\\",\\\"340\\\",\\\"350\\\",\\\"360\\\",\\\"370\\\",\\\"380\\\",\\\"390\\\",\\\"400\\\",\\\"410\\\",\\\"420\\\",\\\"430\\\",\\\"440\\\",\\\"450\\\",\\\"460\\\",\\\"470\\\",\\\"480\\\",\\\"490\\\",\\\"500\\\"],\\\"changes\\\":WebIO.getval({\\\"name\\\":\\\"changes\\\",\\\"scope\\\":\\\"4785681928698429954\\\",\\\"id\\\":\\\"ob_239\\\",\\\"type\\\":\\\"observable\\\"}),\\\"index\\\":WebIO.getval({\\\"name\\\":\\\"index\\\",\\\"scope\\\":\\\"4785681928698429954\\\",\\\"id\\\":\\\"ob_238\\\",\\\"type\\\":\\\"observable\\\"})};\\n    var self = this;\\n    function AppViewModel() {\\n        for (var key in json_data) {\\n            var el = json_data[key];\\n            this[key] = Array.isArray(el) ? ko.observableArray(el) : ko.observable(el);\\n        }\\n        \\n        [this[\\\"formatted_val\\\"]=ko.computed(    function(){\\n        return this.formatted_vals()[parseInt(this.index())-(1)];\\n    }\\n,this)]\\n        [this[\\\"changes\\\"].subscribe((function (val){!(this.valueFromJulia[\\\"changes\\\"]) ? (WebIO.setval({\\\"name\\\":\\\"changes\\\",\\\"scope\\\":\\\"4785681928698429954\\\",\\\"id\\\":\\\"ob_239\\\",\\\"type\\\":\\\"observable\\\"},val)) : undefined; return this.valueFromJulia[\\\"changes\\\"]=false}),self),this[\\\"index\\\"].subscribe((function (val){!(this.valueFromJulia[\\\"index\\\"]) ? (WebIO.setval({\\\"name\\\":\\\"index\\\",\\\"scope\\\":\\\"4785681928698429954\\\",\\\"id\\\":\\\"ob_238\\\",\\\"type\\\":\\\"observable\\\"},val)) : undefined; return this.valueFromJulia[\\\"index\\\"]=false}),self)]\\n        \\n    }\\n    self.model = new AppViewModel();\\n    self.valueFromJulia = {};\\n    for (var key in json_data) {\\n        self.valueFromJulia[key] = false;\\n    }\\n    ko.applyBindings(self.model, self.dom);\\n}\\n);\\n    (WebIO.importBlock({\\\"data\\\":[{\\\"name\\\":\\\"knockout\\\",\\\"type\\\":\\\"js\\\",\\\"url\\\":\\\"\\/assetserver\\/4db391fba1d49cbca35f2d6951146a79e25f3eb1-knockout.js\\\"},{\\\"name\\\":\\\"knockout_punches\\\",\\\"type\\\":\\\"js\\\",\\\"url\\\":\\\"\\/assetserver\\/cc4d99a1557ede7cd7c345ce28fa3301304297f4-knockout_punches.js\\\"}],\\\"type\\\":\\\"async_block\\\"})).then((imports) => handler.apply(this, imports));\\n}\\n\"],\"observables\":{\"changes\":{\"sync\":false,\"id\":\"ob_239\",\"value\":0},\"index\":{\"sync\":true,\"id\":\"ob_238\",\"value\":25}}},\"children\":[{\"props\":{\"className\":\"interact-flex-row interact-widget\"},\"nodeType\":\"DOM\",\"type\":\"node\",\"instanceArgs\":{\"namespace\":\"html\",\"tag\":\"div\"},\"children\":[{\"props\":{\"className\":\"interact-flex-row-left\"},\"nodeType\":\"DOM\",\"type\":\"node\",\"instanceArgs\":{\"namespace\":\"html\",\"tag\":\"div\"},\"children\":[{\"props\":{\"className\":\"interact \",\"style\":{\"padding\":\"5px 10px 0px 10px\"}},\"nodeType\":\"DOM\",\"type\":\"node\",\"instanceArgs\":{\"namespace\":\"html\",\"tag\":\"label\"},\"children\":[\"r1\"]}]},{\"props\":{\"className\":\"interact-flex-row-center\"},\"nodeType\":\"DOM\",\"type\":\"node\",\"instanceArgs\":{\"namespace\":\"html\",\"tag\":\"div\"},\"children\":[{\"props\":{\"max\":50,\"min\":1,\"attributes\":{\"type\":\"range\",\"data-bind\":\"numericValue: index, valueUpdate: 'input', event: {change: function (){this.changes(this.changes()+1)}}\",\"orient\":\"horizontal\"},\"step\":1,\"className\":\"slider slider is-fullwidth\",\"style\":{}},\"nodeType\":\"DOM\",\"type\":\"node\",\"instanceArgs\":{\"namespace\":\"html\",\"tag\":\"input\"},\"children\":[]}]},{\"props\":{\"className\":\"interact-flex-row-right\"},\"nodeType\":\"DOM\",\"type\":\"node\",\"instanceArgs\":{\"namespace\":\"html\",\"tag\":\"div\"},\"children\":[{\"props\":{\"attributes\":{\"data-bind\":\"text: formatted_val\"}},\"nodeType\":\"DOM\",\"type\":\"node\",\"instanceArgs\":{\"namespace\":\"html\",\"tag\":\"p\"},\"children\":[]}]}]}]}]},{\"props\":{\"className\":\"field interact-widget\"},\"nodeType\":\"DOM\",\"type\":\"node\",\"instanceArgs\":{\"namespace\":\"html\",\"tag\":\"div\"},\"children\":[{\"props\":{},\"nodeType\":\"Scope\",\"type\":\"node\",\"instanceArgs\":{\"imports\":{\"data\":[{\"name\":\"knockout\",\"type\":\"js\",\"url\":\"\\/assetserver\\/4db391fba1d49cbca35f2d6951146a79e25f3eb1-knockout.js\"},{\"name\":\"knockout_punches\",\"type\":\"js\",\"url\":\"\\/assetserver\\/cc4d99a1557ede7cd7c345ce28fa3301304297f4-knockout_punches.js\"},{\"name\":null,\"type\":\"js\",\"url\":\"\\/assetserver\\/bbb8c9c0872e5f271cf9ff37a69b93b417eb6280-all.js\"},{\"name\":null,\"type\":\"css\",\"url\":\"\\/assetserver\\/780ed0dfd62e5ae47c97952677e7808fdff6aa2c-style.css\"},{\"name\":null,\"type\":\"css\",\"url\":\"\\/assetserver\\/50eff6933fe877b2fe06fb5f8e547b5a739bcbb9-bulma_confined.min.css\"}],\"type\":\"async_block\"},\"id\":\"5670239102370823478\",\"handlers\":{\"changes\":[\"(function (val){return (val!=this.model[\\\"changes\\\"]()) ? (this.valueFromJulia[\\\"changes\\\"]=true, this.model[\\\"changes\\\"](val)) : undefined})\"],\"index\":[\"(function (val){return (val!=this.model[\\\"index\\\"]()) ? (this.valueFromJulia[\\\"index\\\"]=true, this.model[\\\"index\\\"](val)) : undefined})\"]},\"systemjs_options\":null,\"mount_callbacks\":[\"function () {\\n    var handler = (function (ko, koPunches) {\\n    ko.punches.enableAll();\\n    ko.bindingHandlers.numericValue = {\\n        init: function(element, valueAccessor, allBindings, data, context) {\\n            var stringified = ko.observable(ko.unwrap(valueAccessor()));\\n            stringified.subscribe(function(value) {\\n                var val = parseFloat(value);\\n                if (!isNaN(val)) {\\n                    valueAccessor()(val);\\n                }\\n            });\\n            valueAccessor().subscribe(function(value) {\\n                var str = JSON.stringify(value);\\n                if ((str == \\\"0\\\") && ([\\\"-0\\\", \\\"-0.\\\"].indexOf(stringified()) >= 0))\\n                     return;\\n                 if ([\\\"null\\\", \\\"\\\"].indexOf(str) >= 0)\\n                     return;\\n                stringified(str);\\n            });\\n            ko.applyBindingsToNode(\\n                element,\\n                {\\n                    value: stringified,\\n                    valueUpdate: allBindings.get('valueUpdate'),\\n                },\\n                context,\\n            );\\n        }\\n    };\\n    var json_data = {\\\"formatted_vals\\\":[\\\"10\\\",\\\"20\\\",\\\"30\\\",\\\"40\\\",\\\"50\\\",\\\"60\\\",\\\"70\\\",\\\"80\\\",\\\"90\\\",\\\"100\\\",\\\"110\\\",\\\"120\\\",\\\"130\\\",\\\"140\\\",\\\"150\\\",\\\"160\\\",\\\"170\\\",\\\"180\\\",\\\"190\\\",\\\"200\\\",\\\"210\\\",\\\"220\\\",\\\"230\\\",\\\"240\\\",\\\"250\\\",\\\"260\\\",\\\"270\\\",\\\"280\\\",\\\"290\\\",\\\"300\\\",\\\"310\\\",\\\"320\\\",\\\"330\\\",\\\"340\\\",\\\"350\\\",\\\"360\\\",\\\"370\\\",\\\"380\\\",\\\"390\\\",\\\"400\\\",\\\"410\\\",\\\"420\\\",\\\"430\\\",\\\"440\\\",\\\"450\\\",\\\"460\\\",\\\"470\\\",\\\"480\\\",\\\"490\\\",\\\"500\\\"],\\\"changes\\\":WebIO.getval({\\\"name\\\":\\\"changes\\\",\\\"scope\\\":\\\"5670239102370823478\\\",\\\"id\\\":\\\"ob_242\\\",\\\"type\\\":\\\"observable\\\"}),\\\"index\\\":WebIO.getval({\\\"name\\\":\\\"index\\\",\\\"scope\\\":\\\"5670239102370823478\\\",\\\"id\\\":\\\"ob_241\\\",\\\"type\\\":\\\"observable\\\"})};\\n    var self = this;\\n    function AppViewModel() {\\n        for (var key in json_data) {\\n            var el = json_data[key];\\n            this[key] = Array.isArray(el) ? ko.observableArray(el) : ko.observable(el);\\n        }\\n        \\n        [this[\\\"formatted_val\\\"]=ko.computed(    function(){\\n        return this.formatted_vals()[parseInt(this.index())-(1)];\\n    }\\n,this)]\\n        [this[\\\"changes\\\"].subscribe((function (val){!(this.valueFromJulia[\\\"changes\\\"]) ? (WebIO.setval({\\\"name\\\":\\\"changes\\\",\\\"scope\\\":\\\"5670239102370823478\\\",\\\"id\\\":\\\"ob_242\\\",\\\"type\\\":\\\"observable\\\"},val)) : undefined; return this.valueFromJulia[\\\"changes\\\"]=false}),self),this[\\\"index\\\"].subscribe((function (val){!(this.valueFromJulia[\\\"index\\\"]) ? (WebIO.setval({\\\"name\\\":\\\"index\\\",\\\"scope\\\":\\\"5670239102370823478\\\",\\\"id\\\":\\\"ob_241\\\",\\\"type\\\":\\\"observable\\\"},val)) : undefined; return this.valueFromJulia[\\\"index\\\"]=false}),self)]\\n        \\n    }\\n    self.model = new AppViewModel();\\n    self.valueFromJulia = {};\\n    for (var key in json_data) {\\n        self.valueFromJulia[key] = false;\\n    }\\n    ko.applyBindings(self.model, self.dom);\\n}\\n);\\n    (WebIO.importBlock({\\\"data\\\":[{\\\"name\\\":\\\"knockout\\\",\\\"type\\\":\\\"js\\\",\\\"url\\\":\\\"\\/assetserver\\/4db391fba1d49cbca35f2d6951146a79e25f3eb1-knockout.js\\\"},{\\\"name\\\":\\\"knockout_punches\\\",\\\"type\\\":\\\"js\\\",\\\"url\\\":\\\"\\/assetserver\\/cc4d99a1557ede7cd7c345ce28fa3301304297f4-knockout_punches.js\\\"}],\\\"type\\\":\\\"async_block\\\"})).then((imports) => handler.apply(this, imports));\\n}\\n\"],\"observables\":{\"changes\":{\"sync\":false,\"id\":\"ob_242\",\"value\":0},\"index\":{\"sync\":true,\"id\":\"ob_241\",\"value\":25}}},\"children\":[{\"props\":{\"className\":\"interact-flex-row interact-widget\"},\"nodeType\":\"DOM\",\"type\":\"node\",\"instanceArgs\":{\"namespace\":\"html\",\"tag\":\"div\"},\"children\":[{\"props\":{\"className\":\"interact-flex-row-left\"},\"nodeType\":\"DOM\",\"type\":\"node\",\"instanceArgs\":{\"namespace\":\"html\",\"tag\":\"div\"},\"children\":[{\"props\":{\"className\":\"interact \",\"style\":{\"padding\":\"5px 10px 0px 10px\"}},\"nodeType\":\"DOM\",\"type\":\"node\",\"instanceArgs\":{\"namespace\":\"html\",\"tag\":\"label\"},\"children\":[\"r2\"]}]},{\"props\":{\"className\":\"interact-flex-row-center\"},\"nodeType\":\"DOM\",\"type\":\"node\",\"instanceArgs\":{\"namespace\":\"html\",\"tag\":\"div\"},\"children\":[{\"props\":{\"max\":50,\"min\":1,\"attributes\":{\"type\":\"range\",\"data-bind\":\"numericValue: index, valueUpdate: 'input', event: {change: function (){this.changes(this.changes()+1)}}\",\"orient\":\"horizontal\"},\"step\":1,\"className\":\"slider slider is-fullwidth\",\"style\":{}},\"nodeType\":\"DOM\",\"type\":\"node\",\"instanceArgs\":{\"namespace\":\"html\",\"tag\":\"input\"},\"children\":[]}]},{\"props\":{\"className\":\"interact-flex-row-right\"},\"nodeType\":\"DOM\",\"type\":\"node\",\"instanceArgs\":{\"namespace\":\"html\",\"tag\":\"div\"},\"children\":[{\"props\":{\"attributes\":{\"data-bind\":\"text: formatted_val\"}},\"nodeType\":\"DOM\",\"type\":\"node\",\"instanceArgs\":{\"namespace\":\"html\",\"tag\":\"p\"},\"children\":[]}]}]}]}]},{\"props\":{\"className\":\"field interact-widget\"},\"nodeType\":\"DOM\",\"type\":\"node\",\"instanceArgs\":{\"namespace\":\"html\",\"tag\":\"div\"},\"children\":[{\"props\":{},\"nodeType\":\"Scope\",\"type\":\"node\",\"instanceArgs\":{\"imports\":{\"data\":[{\"name\":\"knockout\",\"type\":\"js\",\"url\":\"\\/assetserver\\/4db391fba1d49cbca35f2d6951146a79e25f3eb1-knockout.js\"},{\"name\":\"knockout_punches\",\"type\":\"js\",\"url\":\"\\/assetserver\\/cc4d99a1557ede7cd7c345ce28fa3301304297f4-knockout_punches.js\"},{\"name\":null,\"type\":\"js\",\"url\":\"\\/assetserver\\/bbb8c9c0872e5f271cf9ff37a69b93b417eb6280-all.js\"},{\"name\":null,\"type\":\"css\",\"url\":\"\\/assetserver\\/780ed0dfd62e5ae47c97952677e7808fdff6aa2c-style.css\"},{\"name\":null,\"type\":\"css\",\"url\":\"\\/assetserver\\/50eff6933fe877b2fe06fb5f8e547b5a739bcbb9-bulma_confined.min.css\"}],\"type\":\"async_block\"},\"id\":\"4578548551550199763\",\"handlers\":{\"changes\":[\"(function (val){return (val!=this.model[\\\"changes\\\"]()) ? (this.valueFromJulia[\\\"changes\\\"]=true, this.model[\\\"changes\\\"](val)) : undefined})\"],\"index\":[\"(function (val){return (val!=this.model[\\\"index\\\"]()) ? (this.valueFromJulia[\\\"index\\\"]=true, this.model[\\\"index\\\"](val)) : undefined})\"]},\"systemjs_options\":null,\"mount_callbacks\":[\"function () {\\n    var handler = (function (ko, koPunches) {\\n    ko.punches.enableAll();\\n    ko.bindingHandlers.numericValue = {\\n        init: function(element, valueAccessor, allBindings, data, context) {\\n            var stringified = ko.observable(ko.unwrap(valueAccessor()));\\n            stringified.subscribe(function(value) {\\n                var val = parseFloat(value);\\n                if (!isNaN(val)) {\\n                    valueAccessor()(val);\\n                }\\n            });\\n            valueAccessor().subscribe(function(value) {\\n                var str = JSON.stringify(value);\\n                if ((str == \\\"0\\\") && ([\\\"-0\\\", \\\"-0.\\\"].indexOf(stringified()) >= 0))\\n                     return;\\n                 if ([\\\"null\\\", \\\"\\\"].indexOf(str) >= 0)\\n                     return;\\n                stringified(str);\\n            });\\n            ko.applyBindingsToNode(\\n                element,\\n                {\\n                    value: stringified,\\n                    valueUpdate: allBindings.get('valueUpdate'),\\n                },\\n                context,\\n            );\\n        }\\n    };\\n    var json_data = {\\\"formatted_vals\\\":[\\\"800\\\",\\\"810\\\",\\\"820\\\",\\\"830\\\",\\\"840\\\",\\\"850\\\",\\\"860\\\",\\\"870\\\",\\\"880\\\",\\\"890\\\",\\\"900\\\",\\\"910\\\",\\\"920\\\",\\\"930\\\",\\\"940\\\",\\\"950\\\",\\\"960\\\",\\\"970\\\",\\\"980\\\",\\\"990\\\",\\\"1000\\\",\\\"1010\\\",\\\"1020\\\",\\\"1030\\\",\\\"1040\\\",\\\"1050\\\",\\\"1060\\\",\\\"1070\\\",\\\"1080\\\",\\\"1090\\\",\\\"1100\\\",\\\"1110\\\",\\\"1120\\\",\\\"1130\\\",\\\"1140\\\",\\\"1150\\\",\\\"1160\\\",\\\"1170\\\",\\\"1180\\\",\\\"1190\\\",\\\"1200\\\"],\\\"changes\\\":WebIO.getval({\\\"name\\\":\\\"changes\\\",\\\"scope\\\":\\\"4578548551550199763\\\",\\\"id\\\":\\\"ob_245\\\",\\\"type\\\":\\\"observable\\\"}),\\\"index\\\":WebIO.getval({\\\"name\\\":\\\"index\\\",\\\"scope\\\":\\\"4578548551550199763\\\",\\\"id\\\":\\\"ob_244\\\",\\\"type\\\":\\\"observable\\\"})};\\n    var self = this;\\n    function AppViewModel() {\\n        for (var key in json_data) {\\n            var el = json_data[key];\\n            this[key] = Array.isArray(el) ? ko.observableArray(el) : ko.observable(el);\\n        }\\n        \\n        [this[\\\"formatted_val\\\"]=ko.computed(    function(){\\n        return this.formatted_vals()[parseInt(this.index())-(1)];\\n    }\\n,this)]\\n        [this[\\\"changes\\\"].subscribe((function (val){!(this.valueFromJulia[\\\"changes\\\"]) ? (WebIO.setval({\\\"name\\\":\\\"changes\\\",\\\"scope\\\":\\\"4578548551550199763\\\",\\\"id\\\":\\\"ob_245\\\",\\\"type\\\":\\\"observable\\\"},val)) : undefined; return this.valueFromJulia[\\\"changes\\\"]=false}),self),this[\\\"index\\\"].subscribe((function (val){!(this.valueFromJulia[\\\"index\\\"]) ? (WebIO.setval({\\\"name\\\":\\\"index\\\",\\\"scope\\\":\\\"4578548551550199763\\\",\\\"id\\\":\\\"ob_244\\\",\\\"type\\\":\\\"observable\\\"},val)) : undefined; return this.valueFromJulia[\\\"index\\\"]=false}),self)]\\n        \\n    }\\n    self.model = new AppViewModel();\\n    self.valueFromJulia = {};\\n    for (var key in json_data) {\\n        self.valueFromJulia[key] = false;\\n    }\\n    ko.applyBindings(self.model, self.dom);\\n}\\n);\\n    (WebIO.importBlock({\\\"data\\\":[{\\\"name\\\":\\\"knockout\\\",\\\"type\\\":\\\"js\\\",\\\"url\\\":\\\"\\/assetserver\\/4db391fba1d49cbca35f2d6951146a79e25f3eb1-knockout.js\\\"},{\\\"name\\\":\\\"knockout_punches\\\",\\\"type\\\":\\\"js\\\",\\\"url\\\":\\\"\\/assetserver\\/cc4d99a1557ede7cd7c345ce28fa3301304297f4-knockout_punches.js\\\"}],\\\"type\\\":\\\"async_block\\\"})).then((imports) => handler.apply(this, imports));\\n}\\n\"],\"observables\":{\"changes\":{\"sync\":false,\"id\":\"ob_245\",\"value\":0},\"index\":{\"sync\":true,\"id\":\"ob_244\",\"value\":21}}},\"children\":[{\"props\":{\"className\":\"interact-flex-row interact-widget\"},\"nodeType\":\"DOM\",\"type\":\"node\",\"instanceArgs\":{\"namespace\":\"html\",\"tag\":\"div\"},\"children\":[{\"props\":{\"className\":\"interact-flex-row-left\"},\"nodeType\":\"DOM\",\"type\":\"node\",\"instanceArgs\":{\"namespace\":\"html\",\"tag\":\"div\"},\"children\":[{\"props\":{\"className\":\"interact \",\"style\":{\"padding\":\"5px 10px 0px 10px\"}},\"nodeType\":\"DOM\",\"type\":\"node\",\"instanceArgs\":{\"namespace\":\"html\",\"tag\":\"label\"},\"children\":[\"r3\"]}]},{\"props\":{\"className\":\"interact-flex-row-center\"},\"nodeType\":\"DOM\",\"type\":\"node\",\"instanceArgs\":{\"namespace\":\"html\",\"tag\":\"div\"},\"children\":[{\"props\":{\"max\":41,\"min\":1,\"attributes\":{\"type\":\"range\",\"data-bind\":\"numericValue: index, valueUpdate: 'input', event: {change: function (){this.changes(this.changes()+1)}}\",\"orient\":\"horizontal\"},\"step\":1,\"className\":\"slider slider is-fullwidth\",\"style\":{}},\"nodeType\":\"DOM\",\"type\":\"node\",\"instanceArgs\":{\"namespace\":\"html\",\"tag\":\"input\"},\"children\":[]}]},{\"props\":{\"className\":\"interact-flex-row-right\"},\"nodeType\":\"DOM\",\"type\":\"node\",\"instanceArgs\":{\"namespace\":\"html\",\"tag\":\"div\"},\"children\":[{\"props\":{\"attributes\":{\"data-bind\":\"text: formatted_val\"}},\"nodeType\":\"DOM\",\"type\":\"node\",\"instanceArgs\":{\"namespace\":\"html\",\"tag\":\"p\"},\"children\":[]}]}]}]}]},{\"props\":{\"className\":\"field interact-widget\"},\"nodeType\":\"DOM\",\"type\":\"node\",\"instanceArgs\":{\"namespace\":\"html\",\"tag\":\"div\"},\"children\":[{\"props\":{},\"nodeType\":\"Scope\",\"type\":\"node\",\"instanceArgs\":{\"imports\":{\"data\":[{\"name\":\"knockout\",\"type\":\"js\",\"url\":\"\\/assetserver\\/4db391fba1d49cbca35f2d6951146a79e25f3eb1-knockout.js\"},{\"name\":\"knockout_punches\",\"type\":\"js\",\"url\":\"\\/assetserver\\/cc4d99a1557ede7cd7c345ce28fa3301304297f4-knockout_punches.js\"},{\"name\":null,\"type\":\"js\",\"url\":\"\\/assetserver\\/bbb8c9c0872e5f271cf9ff37a69b93b417eb6280-all.js\"},{\"name\":null,\"type\":\"css\",\"url\":\"\\/assetserver\\/780ed0dfd62e5ae47c97952677e7808fdff6aa2c-style.css\"},{\"name\":null,\"type\":\"css\",\"url\":\"\\/assetserver\\/50eff6933fe877b2fe06fb5f8e547b5a739bcbb9-bulma_confined.min.css\"}],\"type\":\"async_block\"},\"id\":\"2757866629936152452\",\"handlers\":{\"changes\":[\"(function (val){return (val!=this.model[\\\"changes\\\"]()) ? (this.valueFromJulia[\\\"changes\\\"]=true, this.model[\\\"changes\\\"](val)) : undefined})\"],\"index\":[\"(function (val){return (val!=this.model[\\\"index\\\"]()) ? (this.valueFromJulia[\\\"index\\\"]=true, this.model[\\\"index\\\"](val)) : undefined})\"]},\"systemjs_options\":null,\"mount_callbacks\":[\"function () {\\n    var handler = (function (ko, koPunches) {\\n    ko.punches.enableAll();\\n    ko.bindingHandlers.numericValue = {\\n        init: function(element, valueAccessor, allBindings, data, context) {\\n            var stringified = ko.observable(ko.unwrap(valueAccessor()));\\n            stringified.subscribe(function(value) {\\n                var val = parseFloat(value);\\n                if (!isNaN(val)) {\\n                    valueAccessor()(val);\\n                }\\n            });\\n            valueAccessor().subscribe(function(value) {\\n                var str = JSON.stringify(value);\\n                if ((str == \\\"0\\\") && ([\\\"-0\\\", \\\"-0.\\\"].indexOf(stringified()) >= 0))\\n                     return;\\n                 if ([\\\"null\\\", \\\"\\\"].indexOf(str) >= 0)\\n                     return;\\n                stringified(str);\\n            });\\n            ko.applyBindingsToNode(\\n                element,\\n                {\\n                    value: stringified,\\n                    valueUpdate: allBindings.get('valueUpdate'),\\n                },\\n                context,\\n            );\\n        }\\n    };\\n    var json_data = {\\\"formatted_vals\\\":[\\\"1\\\",\\\"2\\\",\\\"3\\\",\\\"4\\\",\\\"5\\\",\\\"6\\\",\\\"7\\\",\\\"8\\\",\\\"9\\\",\\\"10\\\"],\\\"changes\\\":WebIO.getval({\\\"name\\\":\\\"changes\\\",\\\"scope\\\":\\\"2757866629936152452\\\",\\\"id\\\":\\\"ob_247\\\",\\\"type\\\":\\\"observable\\\"}),\\\"index\\\":WebIO.getval({\\\"name\\\":\\\"index\\\",\\\"scope\\\":\\\"2757866629936152452\\\",\\\"id\\\":\\\"ob_246\\\",\\\"type\\\":\\\"observable\\\"})};\\n    var self = this;\\n    function AppViewModel() {\\n        for (var key in json_data) {\\n            var el = json_data[key];\\n            this[key] = Array.isArray(el) ? ko.observableArray(el) : ko.observable(el);\\n        }\\n        \\n        [this[\\\"formatted_val\\\"]=ko.computed(    function(){\\n        return this.formatted_vals()[parseInt(this.index())-(1)];\\n    }\\n,this)]\\n        [this[\\\"changes\\\"].subscribe((function (val){!(this.valueFromJulia[\\\"changes\\\"]) ? (WebIO.setval({\\\"name\\\":\\\"changes\\\",\\\"scope\\\":\\\"2757866629936152452\\\",\\\"id\\\":\\\"ob_247\\\",\\\"type\\\":\\\"observable\\\"},val)) : undefined; return this.valueFromJulia[\\\"changes\\\"]=false}),self),this[\\\"index\\\"].subscribe((function (val){!(this.valueFromJulia[\\\"index\\\"]) ? (WebIO.setval({\\\"name\\\":\\\"index\\\",\\\"scope\\\":\\\"2757866629936152452\\\",\\\"id\\\":\\\"ob_246\\\",\\\"type\\\":\\\"observable\\\"},val)) : undefined; return this.valueFromJulia[\\\"index\\\"]=false}),self)]\\n        \\n    }\\n    self.model = new AppViewModel();\\n    self.valueFromJulia = {};\\n    for (var key in json_data) {\\n        self.valueFromJulia[key] = false;\\n    }\\n    ko.applyBindings(self.model, self.dom);\\n}\\n);\\n    (WebIO.importBlock({\\\"data\\\":[{\\\"name\\\":\\\"knockout\\\",\\\"type\\\":\\\"js\\\",\\\"url\\\":\\\"\\/assetserver\\/4db391fba1d49cbca35f2d6951146a79e25f3eb1-knockout.js\\\"},{\\\"name\\\":\\\"knockout_punches\\\",\\\"type\\\":\\\"js\\\",\\\"url\\\":\\\"\\/assetserver\\/cc4d99a1557ede7cd7c345ce28fa3301304297f4-knockout_punches.js\\\"}],\\\"type\\\":\\\"async_block\\\"})).then((imports) => handler.apply(this, imports));\\n}\\n\"],\"observables\":{\"changes\":{\"sync\":false,\"id\":\"ob_247\",\"value\":0},\"index\":{\"sync\":true,\"id\":\"ob_246\",\"value\":5}}},\"children\":[{\"props\":{\"className\":\"interact-flex-row interact-widget\"},\"nodeType\":\"DOM\",\"type\":\"node\",\"instanceArgs\":{\"namespace\":\"html\",\"tag\":\"div\"},\"children\":[{\"props\":{\"className\":\"interact-flex-row-left\"},\"nodeType\":\"DOM\",\"type\":\"node\",\"instanceArgs\":{\"namespace\":\"html\",\"tag\":\"div\"},\"children\":[{\"props\":{\"className\":\"interact \",\"style\":{\"padding\":\"5px 10px 0px 10px\"}},\"nodeType\":\"DOM\",\"type\":\"node\",\"instanceArgs\":{\"namespace\":\"html\",\"tag\":\"label\"},\"children\":[\"h1\"]}]},{\"props\":{\"className\":\"interact-flex-row-center\"},\"nodeType\":\"DOM\",\"type\":\"node\",\"instanceArgs\":{\"namespace\":\"html\",\"tag\":\"div\"},\"children\":[{\"props\":{\"max\":10,\"min\":1,\"attributes\":{\"type\":\"range\",\"data-bind\":\"numericValue: index, valueUpdate: 'input', event: {change: function (){this.changes(this.changes()+1)}}\",\"orient\":\"horizontal\"},\"step\":1,\"className\":\"slider slider is-fullwidth\",\"style\":{}},\"nodeType\":\"DOM\",\"type\":\"node\",\"instanceArgs\":{\"namespace\":\"html\",\"tag\":\"input\"},\"children\":[]}]},{\"props\":{\"className\":\"interact-flex-row-right\"},\"nodeType\":\"DOM\",\"type\":\"node\",\"instanceArgs\":{\"namespace\":\"html\",\"tag\":\"div\"},\"children\":[{\"props\":{\"attributes\":{\"data-bind\":\"text: formatted_val\"}},\"nodeType\":\"DOM\",\"type\":\"node\",\"instanceArgs\":{\"namespace\":\"html\",\"tag\":\"p\"},\"children\":[]}]}]}]}]},{\"props\":{\"className\":\"field interact-widget\"},\"nodeType\":\"DOM\",\"type\":\"node\",\"instanceArgs\":{\"namespace\":\"html\",\"tag\":\"div\"},\"children\":[{\"props\":{},\"nodeType\":\"Scope\",\"type\":\"node\",\"instanceArgs\":{\"imports\":{\"data\":[{\"name\":\"knockout\",\"type\":\"js\",\"url\":\"\\/assetserver\\/4db391fba1d49cbca35f2d6951146a79e25f3eb1-knockout.js\"},{\"name\":\"knockout_punches\",\"type\":\"js\",\"url\":\"\\/assetserver\\/cc4d99a1557ede7cd7c345ce28fa3301304297f4-knockout_punches.js\"},{\"name\":null,\"type\":\"js\",\"url\":\"\\/assetserver\\/bbb8c9c0872e5f271cf9ff37a69b93b417eb6280-all.js\"},{\"name\":null,\"type\":\"css\",\"url\":\"\\/assetserver\\/780ed0dfd62e5ae47c97952677e7808fdff6aa2c-style.css\"},{\"name\":null,\"type\":\"css\",\"url\":\"\\/assetserver\\/50eff6933fe877b2fe06fb5f8e547b5a739bcbb9-bulma_confined.min.css\"}],\"type\":\"async_block\"},\"id\":\"749916285058641038\",\"handlers\":{\"changes\":[\"(function (val){return (val!=this.model[\\\"changes\\\"]()) ? (this.valueFromJulia[\\\"changes\\\"]=true, this.model[\\\"changes\\\"](val)) : undefined})\"],\"index\":[\"(function (val){return (val!=this.model[\\\"index\\\"]()) ? (this.valueFromJulia[\\\"index\\\"]=true, this.model[\\\"index\\\"](val)) : undefined})\"]},\"systemjs_options\":null,\"mount_callbacks\":[\"function () {\\n    var handler = (function (ko, koPunches) {\\n    ko.punches.enableAll();\\n    ko.bindingHandlers.numericValue = {\\n        init: function(element, valueAccessor, allBindings, data, context) {\\n            var stringified = ko.observable(ko.unwrap(valueAccessor()));\\n            stringified.subscribe(function(value) {\\n                var val = parseFloat(value);\\n                if (!isNaN(val)) {\\n                    valueAccessor()(val);\\n                }\\n            });\\n            valueAccessor().subscribe(function(value) {\\n                var str = JSON.stringify(value);\\n                if ((str == \\\"0\\\") && ([\\\"-0\\\", \\\"-0.\\\"].indexOf(stringified()) >= 0))\\n                     return;\\n                 if ([\\\"null\\\", \\\"\\\"].indexOf(str) >= 0)\\n                     return;\\n                stringified(str);\\n            });\\n            ko.applyBindingsToNode(\\n                element,\\n                {\\n                    value: stringified,\\n                    valueUpdate: allBindings.get('valueUpdate'),\\n                },\\n                context,\\n            );\\n        }\\n    };\\n    var json_data = {\\\"formatted_vals\\\":[\\\"1\\\",\\\"2\\\",\\\"3\\\",\\\"4\\\",\\\"5\\\",\\\"6\\\",\\\"7\\\",\\\"8\\\",\\\"9\\\",\\\"10\\\"],\\\"changes\\\":WebIO.getval({\\\"name\\\":\\\"changes\\\",\\\"scope\\\":\\\"749916285058641038\\\",\\\"id\\\":\\\"ob_249\\\",\\\"type\\\":\\\"observable\\\"}),\\\"index\\\":WebIO.getval({\\\"name\\\":\\\"index\\\",\\\"scope\\\":\\\"749916285058641038\\\",\\\"id\\\":\\\"ob_248\\\",\\\"type\\\":\\\"observable\\\"})};\\n    var self = this;\\n    function AppViewModel() {\\n        for (var key in json_data) {\\n            var el = json_data[key];\\n            this[key] = Array.isArray(el) ? ko.observableArray(el) : ko.observable(el);\\n        }\\n        \\n        [this[\\\"formatted_val\\\"]=ko.computed(    function(){\\n        return this.formatted_vals()[parseInt(this.index())-(1)];\\n    }\\n,this)]\\n        [this[\\\"changes\\\"].subscribe((function (val){!(this.valueFromJulia[\\\"changes\\\"]) ? (WebIO.setval({\\\"name\\\":\\\"changes\\\",\\\"scope\\\":\\\"749916285058641038\\\",\\\"id\\\":\\\"ob_249\\\",\\\"type\\\":\\\"observable\\\"},val)) : undefined; return this.valueFromJulia[\\\"changes\\\"]=false}),self),this[\\\"index\\\"].subscribe((function (val){!(this.valueFromJulia[\\\"index\\\"]) ? (WebIO.setval({\\\"name\\\":\\\"index\\\",\\\"scope\\\":\\\"749916285058641038\\\",\\\"id\\\":\\\"ob_248\\\",\\\"type\\\":\\\"observable\\\"},val)) : undefined; return this.valueFromJulia[\\\"index\\\"]=false}),self)]\\n        \\n    }\\n    self.model = new AppViewModel();\\n    self.valueFromJulia = {};\\n    for (var key in json_data) {\\n        self.valueFromJulia[key] = false;\\n    }\\n    ko.applyBindings(self.model, self.dom);\\n}\\n);\\n    (WebIO.importBlock({\\\"data\\\":[{\\\"name\\\":\\\"knockout\\\",\\\"type\\\":\\\"js\\\",\\\"url\\\":\\\"\\/assetserver\\/4db391fba1d49cbca35f2d6951146a79e25f3eb1-knockout.js\\\"},{\\\"name\\\":\\\"knockout_punches\\\",\\\"type\\\":\\\"js\\\",\\\"url\\\":\\\"\\/assetserver\\/cc4d99a1557ede7cd7c345ce28fa3301304297f4-knockout_punches.js\\\"}],\\\"type\\\":\\\"async_block\\\"})).then((imports) => handler.apply(this, imports));\\n}\\n\"],\"observables\":{\"changes\":{\"sync\":false,\"id\":\"ob_249\",\"value\":0},\"index\":{\"sync\":true,\"id\":\"ob_248\",\"value\":5}}},\"children\":[{\"props\":{\"className\":\"interact-flex-row interact-widget\"},\"nodeType\":\"DOM\",\"type\":\"node\",\"instanceArgs\":{\"namespace\":\"html\",\"tag\":\"div\"},\"children\":[{\"props\":{\"className\":\"interact-flex-row-left\"},\"nodeType\":\"DOM\",\"type\":\"node\",\"instanceArgs\":{\"namespace\":\"html\",\"tag\":\"div\"},\"children\":[{\"props\":{\"className\":\"interact \",\"style\":{\"padding\":\"5px 10px 0px 10px\"}},\"nodeType\":\"DOM\",\"type\":\"node\",\"instanceArgs\":{\"namespace\":\"html\",\"tag\":\"label\"},\"children\":[\"h2\"]}]},{\"props\":{\"className\":\"interact-flex-row-center\"},\"nodeType\":\"DOM\",\"type\":\"node\",\"instanceArgs\":{\"namespace\":\"html\",\"tag\":\"div\"},\"children\":[{\"props\":{\"max\":10,\"min\":1,\"attributes\":{\"type\":\"range\",\"data-bind\":\"numericValue: index, valueUpdate: 'input', event: {change: function (){this.changes(this.changes()+1)}}\",\"orient\":\"horizontal\"},\"step\":1,\"className\":\"slider slider is-fullwidth\",\"style\":{}},\"nodeType\":\"DOM\",\"type\":\"node\",\"instanceArgs\":{\"namespace\":\"html\",\"tag\":\"input\"},\"children\":[]}]},{\"props\":{\"className\":\"interact-flex-row-right\"},\"nodeType\":\"DOM\",\"type\":\"node\",\"instanceArgs\":{\"namespace\":\"html\",\"tag\":\"div\"},\"children\":[{\"props\":{\"attributes\":{\"data-bind\":\"text: formatted_val\"}},\"nodeType\":\"DOM\",\"type\":\"node\",\"instanceArgs\":{\"namespace\":\"html\",\"tag\":\"p\"},\"children\":[]}]}]}]}]},{\"props\":{},\"nodeType\":\"Scope\",\"type\":\"node\",\"instanceArgs\":{\"imports\":{\"data\":[],\"type\":\"async_block\"},\"id\":\"1894340940406360720\",\"handlers\":{},\"systemjs_options\":null,\"mount_callbacks\":[],\"observables\":{\"obs-node\":{\"sync\":false,\"id\":\"ob_253\",\"value\":{\"props\":{\"className\":\"interact-flex-row interact-widget\"},\"nodeType\":\"DOM\",\"type\":\"node\",\"instanceArgs\":{\"namespace\":\"html\",\"tag\":\"div\"},\"children\":[{\"props\":{\"setInnerHtml\":\"<img src='data:image\\/png;base64,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'><\\/img>\"},\"nodeType\":\"DOM\",\"type\":\"node\",\"instanceArgs\":{\"namespace\":\"html\",\"tag\":\"div\"},\"children\":[]}]}}}},\"children\":[{\"props\":{},\"nodeType\":\"ObservableNode\",\"type\":\"node\",\"instanceArgs\":{\"id\":\"ob_253\",\"name\":\"obs-node\"},\"children\":[]}]}]},\n",
       "            window,\n",
       "        );\n",
       "    } else {\n",
       "        document\n",
       "            .querySelector('[data-webio-mountpoint=\"15439329130715333058\"]')\n",
       "            .innerHTML = (\n",
       "                '<div style=\"padding: 1em; background-color: #f8d6da; border: 1px solid #f5c6cb\">' +\n",
       "                '<p><strong>WebIO not detected.</strong></p>' +\n",
       "                '<p>Please read ' +\n",
       "                '<a href=\"https://juliagizmos.github.io/WebIO.jl/latest/troubleshooting/not-detected/\" target=\"_blank\">the troubleshooting guide</a> ' +\n",
       "                'for more information on how to resolve this issue.</p>' +\n",
       "                '<p><a href=\"https://juliagizmos.github.io/WebIO.jl/latest/troubleshooting/not-detected/\" target=\"_blank\">https://juliagizmos.github.io/WebIO.jl/latest/troubleshooting/not-detected/</a></p>' +\n",
       "                '</div>'\n",
       "            );\n",
       "    }\n",
       "    </script>\n",
       "</div>\n"
      ],
      "text/plain": [
       "Node{WebIO.DOM}(WebIO.DOM(:html, :div), Any[Node{WebIO.DOM}(WebIO.DOM(:html, :div), Any[Scope(Node{WebIO.DOM}(WebIO.DOM(:html, :div), Any[Node{WebIO.DOM}(WebIO.DOM(:html, :div), Any[Node{WebIO.DOM}(WebIO.DOM(:html, :label), Any[\"r1\"], Dict{Symbol,Any}(:className => \"interact \",:style => Dict{Any,Any}(:padding => \"5px 10px 0px 10px\")))], Dict{Symbol,Any}(:className => \"interact-flex-row-left\")), Node{WebIO.DOM}(WebIO.DOM(:html, :div), Any[Node{WebIO.DOM}(WebIO.DOM(:html, :input), Any[], Dict{Symbol,Any}(:max => 50,:min => 1,:attributes => Dict{Any,Any}(:type => \"range\",Symbol(\"data-bind\") => \"numericValue: index, valueUpdate: 'input', event: {change: function (){this.changes(this.changes()+1)}}\",\"orient\" => \"horizontal\"),:step => 1,:className => \"slider slider is-fullwidth\",:style => Dict{Any,Any}()))], Dict{Symbol,Any}(:className => \"interact-flex-row-center\")), Node{WebIO.DOM}(WebIO.DOM(:html, :div), Any[Node{WebIO.DOM}(WebIO.DOM(:html, :p), Any[], Dict{Symbol,Any}(:attributes => Dict(\"data-bind\" => \"text: formatted_val\")))], Dict{Symbol,Any}(:className => \"interact-flex-row-right\"))], Dict{Symbol,Any}(:className => \"interact-flex-row interact-widget\")), Dict{String,Tuple{Observables.AbstractObservable,Union{Nothing, Bool}}}(\"changes\" => (Observable{Int64} with 1 listeners. Value:\n",
       "0, nothing),\"index\" => (Observable{Any} with 2 listeners. Value:\n",
       "25, nothing)), Set(String[]), nothing, Asset[Asset(\"js\", \"knockout\", \"/Users/rub/.julia/packages/Knockout/IP1uR/src/../assets/knockout.js\"), Asset(\"js\", \"knockout_punches\", \"/Users/rub/.julia/packages/Knockout/IP1uR/src/../assets/knockout_punches.js\"), Asset(\"js\", nothing, \"/Users/rub/.julia/packages/InteractBase/9mFwe/src/../assets/all.js\"), Asset(\"css\", nothing, \"/Users/rub/.julia/packages/InteractBase/9mFwe/src/../assets/style.css\"), Asset(\"css\", nothing, \"/Users/rub/.julia/packages/Interact/SbgIk/src/../assets/bulma_confined.min.css\")], Dict{Any,Any}(\"changes\" => Any[WebIO.JSString(\"(function (val){return (val!=this.model[\\\"changes\\\"]()) ? (this.valueFromJulia[\\\"changes\\\"]=true, this.model[\\\"changes\\\"](val)) : undefined})\")],\"index\" => Any[WebIO.JSString(\"(function (val){return (val!=this.model[\\\"index\\\"]()) ? (this.valueFromJulia[\\\"index\\\"]=true, this.model[\\\"index\\\"](val)) : undefined})\")]), WebIO.ConnectionPool(Channel{Any}(sz_max:32,sz_curr:0), Set(AbstractConnection[]), Base.GenericCondition{Base.AlwaysLockedST}(Base.InvasiveLinkedList{Task}(Task (runnable) @0x000000012bc54fd0, Task (runnable) @0x000000012bc54fd0), Base.AlwaysLockedST(1))), WebIO.JSString[WebIO.JSString(\"function () {\\n    var handler = (function (ko, koPunches) {\\n    ko.punches.enableAll();\\n    ko.bindingHandlers.numericValue = {\\n        init: function(element, valueAccessor, allBindings, data, context) {\\n            var stringified = ko.observable(ko.unwrap(valueAccessor()));\\n            stringified.subscribe(function(value) {\\n                var val = parseFloat(value);\\n                if (!isNaN(val)) {\\n                    valueAccessor()(val);\\n                }\\n            });\\n            valueAccessor().subscribe(function(value) {\\n                var str = JSON.stringify(value);\\n                if ((str == \\\"0\\\") && ([\\\"-0\\\", \\\"-0.\\\"].indexOf(stringified()) >= 0))\\n                     return;\\n                 if ([\\\"null\\\", \\\"\\\"].indexOf(str) >= 0)\\n                     return;\\n                stringified(str);\\n            });\\n            ko.applyBindingsToNode(\\n                element,\\n                {\\n                    value: stringified,\\n                    valueUpdate: allBindings.get('valueUpdate'),\\n                },\\n                context,\\n            );\\n        }\\n    };\\n    var json_data = {\\\"formatted_vals\\\":[\\\"10\\\",\\\"20\\\",\\\"30\\\",\\\"40\\\",\\\"50\\\",\\\"60\\\",\\\"70\\\",\\\"80\\\",\\\"90\\\",\\\"100\\\",\\\"110\\\",\\\"120\\\",\\\"130\\\",\\\"140\\\",\\\"150\\\",\\\"160\\\",\\\"170\\\",\\\"180\\\",\\\"190\\\",\\\"200\\\",\\\"210\\\",\\\"220\\\",\\\"230\\\",\\\"240\\\",\\\"250\\\",\\\"260\\\",\\\"270\\\",\\\"280\\\",\\\"290\\\",\\\"300\\\",\\\"310\\\",\\\"320\\\",\\\"330\\\",\\\"340\\\",\\\"350\\\",\\\"360\\\",\\\"370\\\",\\\"380\\\",\\\"390\\\",\\\"400\\\",\\\"410\\\",\\\"420\\\",\\\"430\\\",\\\"440\\\",\\\"450\\\",\\\"460\\\",\\\"470\\\",\\\"480\\\",\\\"490\\\",\\\"500\\\"],\\\"changes\\\":WebIO.getval({\\\"name\\\":\\\"changes\\\",\\\"scope\\\":\\\"4785681928698429954\\\",\\\"id\\\":\\\"ob_239\\\",\\\"type\\\":\\\"observable\\\"}),\\\"index\\\":WebIO.getval({\\\"name\\\":\\\"index\\\",\\\"scope\\\":\\\"4785681928698429954\\\",\\\"id\\\":\\\"ob_238\\\",\\\"type\\\":\\\"observable\\\"})};\\n    var self = this;\\n    function AppViewModel() {\\n        for (var key in json_data) {\\n            var el = json_data[key];\\n            this[key] = Array.isArray(el) ? ko.observableArray(el) : ko.observable(el);\\n        }\\n        \\n        [this[\\\"formatted_val\\\"]=ko.computed(    function(){\\n        return this.formatted_vals()[parseInt(this.index())-(1)];\\n    }\\n,this)]\\n        [this[\\\"changes\\\"].subscribe((function (val){!(this.valueFromJulia[\\\"changes\\\"]) ? (WebIO.setval({\\\"name\\\":\\\"changes\\\",\\\"scope\\\":\\\"4785681928698429954\\\",\\\"id\\\":\\\"ob_239\\\",\\\"type\\\":\\\"observable\\\"},val)) : undefined; return this.valueFromJulia[\\\"changes\\\"]=false}),self),this[\\\"index\\\"].subscribe((function (val){!(this.valueFromJulia[\\\"index\\\"]) ? (WebIO.setval({\\\"name\\\":\\\"index\\\",\\\"scope\\\":\\\"4785681928698429954\\\",\\\"id\\\":\\\"ob_238\\\",\\\"type\\\":\\\"observable\\\"},val)) : undefined; return this.valueFromJulia[\\\"index\\\"]=false}),self)]\\n        \\n    }\\n    self.model = new AppViewModel();\\n    self.valueFromJulia = {};\\n    for (var key in json_data) {\\n        self.valueFromJulia[key] = false;\\n    }\\n    ko.applyBindings(self.model, self.dom);\\n}\\n);\\n    (WebIO.importBlock({\\\"data\\\":[{\\\"name\\\":\\\"knockout\\\",\\\"type\\\":\\\"js\\\",\\\"url\\\":\\\"/assetserver/4db391fba1d49cbca35f2d6951146a79e25f3eb1-knockout.js\\\"},{\\\"name\\\":\\\"knockout_punches\\\",\\\"type\\\":\\\"js\\\",\\\"url\\\":\\\"/assetserver/cc4d99a1557ede7cd7c345ce28fa3301304297f4-knockout_punches.js\\\"}],\\\"type\\\":\\\"async_block\\\"})).then((imports) => handler.apply(this, imports));\\n}\\n\")])], Dict{Symbol,Any}(:className => \"field interact-widget\")), Node{WebIO.DOM}(WebIO.DOM(:html, :div), Any[Scope(Node{WebIO.DOM}(WebIO.DOM(:html, :div), Any[Node{WebIO.DOM}(WebIO.DOM(:html, :div), Any[Node{WebIO.DOM}(WebIO.DOM(:html, :label), Any[\"r2\"], Dict{Symbol,Any}(:className => \"interact \",:style => Dict{Any,Any}(:padding => \"5px 10px 0px 10px\")))], Dict{Symbol,Any}(:className => \"interact-flex-row-left\")), Node{WebIO.DOM}(WebIO.DOM(:html, :div), Any[Node{WebIO.DOM}(WebIO.DOM(:html, :input), Any[], Dict{Symbol,Any}(:max => 50,:min => 1,:attributes => Dict{Any,Any}(:type => \"range\",Symbol(\"data-bind\") => \"numericValue: index, valueUpdate: 'input', event: {change: function (){this.changes(this.changes()+1)}}\",\"orient\" => \"horizontal\"),:step => 1,:className => \"slider slider is-fullwidth\",:style => Dict{Any,Any}()))], Dict{Symbol,Any}(:className => \"interact-flex-row-center\")), Node{WebIO.DOM}(WebIO.DOM(:html, :div), Any[Node{WebIO.DOM}(WebIO.DOM(:html, :p), Any[], Dict{Symbol,Any}(:attributes => Dict(\"data-bind\" => \"text: formatted_val\")))], Dict{Symbol,Any}(:className => \"interact-flex-row-right\"))], Dict{Symbol,Any}(:className => \"interact-flex-row interact-widget\")), Dict{String,Tuple{Observables.AbstractObservable,Union{Nothing, Bool}}}(\"changes\" => (Observable{Int64} with 1 listeners. Value:\n",
       "0, nothing),\"index\" => (Observable{Any} with 2 listeners. Value:\n",
       "25, nothing)), Set(String[]), nothing, Asset[Asset(\"js\", \"knockout\", \"/Users/rub/.julia/packages/Knockout/IP1uR/src/../assets/knockout.js\"), Asset(\"js\", \"knockout_punches\", \"/Users/rub/.julia/packages/Knockout/IP1uR/src/../assets/knockout_punches.js\"), Asset(\"js\", nothing, \"/Users/rub/.julia/packages/InteractBase/9mFwe/src/../assets/all.js\"), Asset(\"css\", nothing, \"/Users/rub/.julia/packages/InteractBase/9mFwe/src/../assets/style.css\"), Asset(\"css\", nothing, \"/Users/rub/.julia/packages/Interact/SbgIk/src/../assets/bulma_confined.min.css\")], Dict{Any,Any}(\"changes\" => Any[WebIO.JSString(\"(function (val){return (val!=this.model[\\\"changes\\\"]()) ? (this.valueFromJulia[\\\"changes\\\"]=true, this.model[\\\"changes\\\"](val)) : undefined})\")],\"index\" => Any[WebIO.JSString(\"(function (val){return (val!=this.model[\\\"index\\\"]()) ? (this.valueFromJulia[\\\"index\\\"]=true, this.model[\\\"index\\\"](val)) : undefined})\")]), WebIO.ConnectionPool(Channel{Any}(sz_max:32,sz_curr:0), Set(AbstractConnection[]), Base.GenericCondition{Base.AlwaysLockedST}(Base.InvasiveLinkedList{Task}(Task (runnable) @0x000000012bc55450, Task (runnable) @0x000000012bc55450), Base.AlwaysLockedST(1))), WebIO.JSString[WebIO.JSString(\"function () {\\n    var handler = (function (ko, koPunches) {\\n    ko.punches.enableAll();\\n    ko.bindingHandlers.numericValue = {\\n        init: function(element, valueAccessor, allBindings, data, context) {\\n            var stringified = ko.observable(ko.unwrap(valueAccessor()));\\n            stringified.subscribe(function(value) {\\n                var val = parseFloat(value);\\n                if (!isNaN(val)) {\\n                    valueAccessor()(val);\\n                }\\n            });\\n            valueAccessor().subscribe(function(value) {\\n                var str = JSON.stringify(value);\\n                if ((str == \\\"0\\\") && ([\\\"-0\\\", \\\"-0.\\\"].indexOf(stringified()) >= 0))\\n                     return;\\n                 if ([\\\"null\\\", \\\"\\\"].indexOf(str) >= 0)\\n                     return;\\n                stringified(str);\\n            });\\n            ko.applyBindingsToNode(\\n                element,\\n                {\\n                    value: stringified,\\n                    valueUpdate: allBindings.get('valueUpdate'),\\n                },\\n                context,\\n            );\\n        }\\n    };\\n    var json_data = {\\\"formatted_vals\\\":[\\\"10\\\",\\\"20\\\",\\\"30\\\",\\\"40\\\",\\\"50\\\",\\\"60\\\",\\\"70\\\",\\\"80\\\",\\\"90\\\",\\\"100\\\",\\\"110\\\",\\\"120\\\",\\\"130\\\",\\\"140\\\",\\\"150\\\",\\\"160\\\",\\\"170\\\",\\\"180\\\",\\\"190\\\",\\\"200\\\",\\\"210\\\",\\\"220\\\",\\\"230\\\",\\\"240\\\",\\\"250\\\",\\\"260\\\",\\\"270\\\",\\\"280\\\",\\\"290\\\",\\\"300\\\",\\\"310\\\",\\\"320\\\",\\\"330\\\",\\\"340\\\",\\\"350\\\",\\\"360\\\",\\\"370\\\",\\\"380\\\",\\\"390\\\",\\\"400\\\",\\\"410\\\",\\\"420\\\",\\\"430\\\",\\\"440\\\",\\\"450\\\",\\\"460\\\",\\\"470\\\",\\\"480\\\",\\\"490\\\",\\\"500\\\"],\\\"changes\\\":WebIO.getval({\\\"name\\\":\\\"changes\\\",\\\"scope\\\":\\\"5670239102370823478\\\",\\\"id\\\":\\\"ob_242\\\",\\\"type\\\":\\\"observable\\\"}),\\\"index\\\":WebIO.getval({\\\"name\\\":\\\"index\\\",\\\"scope\\\":\\\"5670239102370823478\\\",\\\"id\\\":\\\"ob_241\\\",\\\"type\\\":\\\"observable\\\"})};\\n    var self = this;\\n    function AppViewModel() {\\n        for (var key in json_data) {\\n            var el = json_data[key];\\n            this[key] = Array.isArray(el) ? ko.observableArray(el) : ko.observable(el);\\n        }\\n        \\n        [this[\\\"formatted_val\\\"]=ko.computed(    function(){\\n        return this.formatted_vals()[parseInt(this.index())-(1)];\\n    }\\n,this)]\\n        [this[\\\"changes\\\"].subscribe((function (val){!(this.valueFromJulia[\\\"changes\\\"]) ? (WebIO.setval({\\\"name\\\":\\\"changes\\\",\\\"scope\\\":\\\"5670239102370823478\\\",\\\"id\\\":\\\"ob_242\\\",\\\"type\\\":\\\"observable\\\"},val)) : undefined; return this.valueFromJulia[\\\"changes\\\"]=false}),self),this[\\\"index\\\"].subscribe((function (val){!(this.valueFromJulia[\\\"index\\\"]) ? (WebIO.setval({\\\"name\\\":\\\"index\\\",\\\"scope\\\":\\\"5670239102370823478\\\",\\\"id\\\":\\\"ob_241\\\",\\\"type\\\":\\\"observable\\\"},val)) : undefined; return this.valueFromJulia[\\\"index\\\"]=false}),self)]\\n        \\n    }\\n    self.model = new AppViewModel();\\n    self.valueFromJulia = {};\\n    for (var key in json_data) {\\n        self.valueFromJulia[key] = false;\\n    }\\n    ko.applyBindings(self.model, self.dom);\\n}\\n);\\n    (WebIO.importBlock({\\\"data\\\":[{\\\"name\\\":\\\"knockout\\\",\\\"type\\\":\\\"js\\\",\\\"url\\\":\\\"/assetserver/4db391fba1d49cbca35f2d6951146a79e25f3eb1-knockout.js\\\"},{\\\"name\\\":\\\"knockout_punches\\\",\\\"type\\\":\\\"js\\\",\\\"url\\\":\\\"/assetserver/cc4d99a1557ede7cd7c345ce28fa3301304297f4-knockout_punches.js\\\"}],\\\"type\\\":\\\"async_block\\\"})).then((imports) => handler.apply(this, imports));\\n}\\n\")])], Dict{Symbol,Any}(:className => \"field interact-widget\")), Node{WebIO.DOM}(WebIO.DOM(:html, :div), Any[Scope(Node{WebIO.DOM}(WebIO.DOM(:html, :div), Any[Node{WebIO.DOM}(WebIO.DOM(:html, :div), Any[Node{WebIO.DOM}(WebIO.DOM(:html, :label), Any[\"r3\"], Dict{Symbol,Any}(:className => \"interact \",:style => Dict{Any,Any}(:padding => \"5px 10px 0px 10px\")))], Dict{Symbol,Any}(:className => \"interact-flex-row-left\")), Node{WebIO.DOM}(WebIO.DOM(:html, :div), Any[Node{WebIO.DOM}(WebIO.DOM(:html, :input), Any[], Dict{Symbol,Any}(:max => 41,:min => 1,:attributes => Dict{Any,Any}(:type => \"range\",Symbol(\"data-bind\") => \"numericValue: index, valueUpdate: 'input', event: {change: function (){this.changes(this.changes()+1)}}\",\"orient\" => \"horizontal\"),:step => 1,:className => \"slider slider is-fullwidth\",:style => Dict{Any,Any}()))], Dict{Symbol,Any}(:className => \"interact-flex-row-center\")), Node{WebIO.DOM}(WebIO.DOM(:html, :div), Any[Node{WebIO.DOM}(WebIO.DOM(:html, :p), Any[], Dict{Symbol,Any}(:attributes => Dict(\"data-bind\" => \"text: formatted_val\")))], Dict{Symbol,Any}(:className => \"interact-flex-row-right\"))], Dict{Symbol,Any}(:className => \"interact-flex-row interact-widget\")), Dict{String,Tuple{Observables.AbstractObservable,Union{Nothing, Bool}}}(\"changes\" => (Observable{Int64} with 1 listeners. Value:\n",
       "0, nothing),\"index\" => (Observable{Any} with 2 listeners. Value:\n",
       "21, nothing)), Set(String[]), nothing, Asset[Asset(\"js\", \"knockout\", \"/Users/rub/.julia/packages/Knockout/IP1uR/src/../assets/knockout.js\"), Asset(\"js\", \"knockout_punches\", \"/Users/rub/.julia/packages/Knockout/IP1uR/src/../assets/knockout_punches.js\"), Asset(\"js\", nothing, \"/Users/rub/.julia/packages/InteractBase/9mFwe/src/../assets/all.js\"), Asset(\"css\", nothing, \"/Users/rub/.julia/packages/InteractBase/9mFwe/src/../assets/style.css\"), Asset(\"css\", nothing, \"/Users/rub/.julia/packages/Interact/SbgIk/src/../assets/bulma_confined.min.css\")], Dict{Any,Any}(\"changes\" => Any[WebIO.JSString(\"(function (val){return (val!=this.model[\\\"changes\\\"]()) ? (this.valueFromJulia[\\\"changes\\\"]=true, this.model[\\\"changes\\\"](val)) : undefined})\")],\"index\" => Any[WebIO.JSString(\"(function (val){return (val!=this.model[\\\"index\\\"]()) ? (this.valueFromJulia[\\\"index\\\"]=true, this.model[\\\"index\\\"](val)) : undefined})\")]), WebIO.ConnectionPool(Channel{Any}(sz_max:32,sz_curr:0), Set(AbstractConnection[]), Base.GenericCondition{Base.AlwaysLockedST}(Base.InvasiveLinkedList{Task}(Task (runnable) @0x000000012bc558d0, Task (runnable) @0x000000012bc558d0), Base.AlwaysLockedST(1))), WebIO.JSString[WebIO.JSString(\"function () {\\n    var handler = (function (ko, koPunches) {\\n    ko.punches.enableAll();\\n    ko.bindingHandlers.numericValue = {\\n        init: function(element, valueAccessor, allBindings, data, context) {\\n            var stringified = ko.observable(ko.unwrap(valueAccessor()));\\n            stringified.subscribe(function(value) {\\n                var val = parseFloat(value);\\n                if (!isNaN(val)) {\\n                    valueAccessor()(val);\\n                }\\n            });\\n            valueAccessor().subscribe(function(value) {\\n                var str = JSON.stringify(value);\\n                if ((str == \\\"0\\\") && ([\\\"-0\\\", \\\"-0.\\\"].indexOf(stringified()) >= 0))\\n                     return;\\n                 if ([\\\"null\\\", \\\"\\\"].indexOf(str) >= 0)\\n                     return;\\n                stringified(str);\\n            });\\n            ko.applyBindingsToNode(\\n                element,\\n                {\\n                    value: stringified,\\n                    valueUpdate: allBindings.get('valueUpdate'),\\n                },\\n                context,\\n            );\\n        }\\n    };\\n    var json_data = {\\\"formatted_vals\\\":[\\\"800\\\",\\\"810\\\",\\\"820\\\",\\\"830\\\",\\\"840\\\",\\\"850\\\",\\\"860\\\",\\\"870\\\",\\\"880\\\",\\\"890\\\",\\\"900\\\",\\\"910\\\",\\\"920\\\",\\\"930\\\",\\\"940\\\",\\\"950\\\",\\\"960\\\",\\\"970\\\",\\\"980\\\",\\\"990\\\",\\\"1000\\\",\\\"1010\\\",\\\"1020\\\",\\\"1030\\\",\\\"1040\\\",\\\"1050\\\",\\\"1060\\\",\\\"1070\\\",\\\"1080\\\",\\\"1090\\\",\\\"1100\\\",\\\"1110\\\",\\\"1120\\\",\\\"1130\\\",\\\"1140\\\",\\\"1150\\\",\\\"1160\\\",\\\"1170\\\",\\\"1180\\\",\\\"1190\\\",\\\"1200\\\"],\\\"changes\\\":WebIO.getval({\\\"name\\\":\\\"changes\\\",\\\"scope\\\":\\\"4578548551550199763\\\",\\\"id\\\":\\\"ob_245\\\",\\\"type\\\":\\\"observable\\\"}),\\\"index\\\":WebIO.getval({\\\"name\\\":\\\"index\\\",\\\"scope\\\":\\\"4578548551550199763\\\",\\\"id\\\":\\\"ob_244\\\",\\\"type\\\":\\\"observable\\\"})};\\n    var self = this;\\n    function AppViewModel() {\\n        for (var key in json_data) {\\n            var el = json_data[key];\\n            this[key] = Array.isArray(el) ? ko.observableArray(el) : ko.observable(el);\\n        }\\n        \\n        [this[\\\"formatted_val\\\"]=ko.computed(    function(){\\n        return this.formatted_vals()[parseInt(this.index())-(1)];\\n    }\\n,this)]\\n        [this[\\\"changes\\\"].subscribe((function (val){!(this.valueFromJulia[\\\"changes\\\"]) ? (WebIO.setval({\\\"name\\\":\\\"changes\\\",\\\"scope\\\":\\\"4578548551550199763\\\",\\\"id\\\":\\\"ob_245\\\",\\\"type\\\":\\\"observable\\\"},val)) : undefined; return this.valueFromJulia[\\\"changes\\\"]=false}),self),this[\\\"index\\\"].subscribe((function (val){!(this.valueFromJulia[\\\"index\\\"]) ? (WebIO.setval({\\\"name\\\":\\\"index\\\",\\\"scope\\\":\\\"4578548551550199763\\\",\\\"id\\\":\\\"ob_244\\\",\\\"type\\\":\\\"observable\\\"},val)) : undefined; return this.valueFromJulia[\\\"index\\\"]=false}),self)]\\n        \\n    }\\n    self.model = new AppViewModel();\\n    self.valueFromJulia = {};\\n    for (var key in json_data) {\\n        self.valueFromJulia[key] = false;\\n    }\\n    ko.applyBindings(self.model, self.dom);\\n}\\n);\\n    (WebIO.importBlock({\\\"data\\\":[{\\\"name\\\":\\\"knockout\\\",\\\"type\\\":\\\"js\\\",\\\"url\\\":\\\"/assetserver/4db391fba1d49cbca35f2d6951146a79e25f3eb1-knockout.js\\\"},{\\\"name\\\":\\\"knockout_punches\\\",\\\"type\\\":\\\"js\\\",\\\"url\\\":\\\"/assetserver/cc4d99a1557ede7cd7c345ce28fa3301304297f4-knockout_punches.js\\\"}],\\\"type\\\":\\\"async_block\\\"})).then((imports) => handler.apply(this, imports));\\n}\\n\")])], Dict{Symbol,Any}(:className => \"field interact-widget\")), Node{WebIO.DOM}(WebIO.DOM(:html, :div), Any[Scope(Node{WebIO.DOM}(WebIO.DOM(:html, :div), Any[Node{WebIO.DOM}(WebIO.DOM(:html, :div), Any[Node{WebIO.DOM}(WebIO.DOM(:html, :label), Any[\"h1\"], Dict{Symbol,Any}(:className => \"interact \",:style => Dict{Any,Any}(:padding => \"5px 10px 0px 10px\")))], Dict{Symbol,Any}(:className => \"interact-flex-row-left\")), Node{WebIO.DOM}(WebIO.DOM(:html, :div), Any[Node{WebIO.DOM}(WebIO.DOM(:html, :input), Any[], Dict{Symbol,Any}(:max => 10,:min => 1,:attributes => Dict{Any,Any}(:type => \"range\",Symbol(\"data-bind\") => \"numericValue: index, valueUpdate: 'input', event: {change: function (){this.changes(this.changes()+1)}}\",\"orient\" => \"horizontal\"),:step => 1,:className => \"slider slider is-fullwidth\",:style => Dict{Any,Any}()))], Dict{Symbol,Any}(:className => \"interact-flex-row-center\")), Node{WebIO.DOM}(WebIO.DOM(:html, :div), Any[Node{WebIO.DOM}(WebIO.DOM(:html, :p), Any[], Dict{Symbol,Any}(:attributes => Dict(\"data-bind\" => \"text: formatted_val\")))], Dict{Symbol,Any}(:className => \"interact-flex-row-right\"))], Dict{Symbol,Any}(:className => \"interact-flex-row interact-widget\")), Dict{String,Tuple{Observables.AbstractObservable,Union{Nothing, Bool}}}(\"changes\" => (Observable{Int64} with 1 listeners. Value:\n",
       "0, nothing),\"index\" => (Observable{Int64} with 2 listeners. Value:\n",
       "5, nothing)), Set(String[]), nothing, Asset[Asset(\"js\", \"knockout\", \"/Users/rub/.julia/packages/Knockout/IP1uR/src/../assets/knockout.js\"), Asset(\"js\", \"knockout_punches\", \"/Users/rub/.julia/packages/Knockout/IP1uR/src/../assets/knockout_punches.js\"), Asset(\"js\", nothing, \"/Users/rub/.julia/packages/InteractBase/9mFwe/src/../assets/all.js\"), Asset(\"css\", nothing, \"/Users/rub/.julia/packages/InteractBase/9mFwe/src/../assets/style.css\"), Asset(\"css\", nothing, \"/Users/rub/.julia/packages/Interact/SbgIk/src/../assets/bulma_confined.min.css\")], Dict{Any,Any}(\"changes\" => Any[WebIO.JSString(\"(function (val){return (val!=this.model[\\\"changes\\\"]()) ? (this.valueFromJulia[\\\"changes\\\"]=true, this.model[\\\"changes\\\"](val)) : undefined})\")],\"index\" => Any[WebIO.JSString(\"(function (val){return (val!=this.model[\\\"index\\\"]()) ? (this.valueFromJulia[\\\"index\\\"]=true, this.model[\\\"index\\\"](val)) : undefined})\")]), WebIO.ConnectionPool(Channel{Any}(sz_max:32,sz_curr:0), Set(AbstractConnection[]), Base.GenericCondition{Base.AlwaysLockedST}(Base.InvasiveLinkedList{Task}(Task (runnable) @0x000000012bc561d0, Task (runnable) @0x000000012bc561d0), Base.AlwaysLockedST(1))), WebIO.JSString[WebIO.JSString(\"function () {\\n    var handler = (function (ko, koPunches) {\\n    ko.punches.enableAll();\\n    ko.bindingHandlers.numericValue = {\\n        init: function(element, valueAccessor, allBindings, data, context) {\\n            var stringified = ko.observable(ko.unwrap(valueAccessor()));\\n            stringified.subscribe(function(value) {\\n                var val = parseFloat(value);\\n                if (!isNaN(val)) {\\n                    valueAccessor()(val);\\n                }\\n            });\\n            valueAccessor().subscribe(function(value) {\\n                var str = JSON.stringify(value);\\n                if ((str == \\\"0\\\") && ([\\\"-0\\\", \\\"-0.\\\"].indexOf(stringified()) >= 0))\\n                     return;\\n                 if ([\\\"null\\\", \\\"\\\"].indexOf(str) >= 0)\\n                     return;\\n                stringified(str);\\n            });\\n            ko.applyBindingsToNode(\\n                element,\\n                {\\n                    value: stringified,\\n                    valueUpdate: allBindings.get('valueUpdate'),\\n                },\\n                context,\\n            );\\n        }\\n    };\\n    var json_data = {\\\"formatted_vals\\\":[\\\"1\\\",\\\"2\\\",\\\"3\\\",\\\"4\\\",\\\"5\\\",\\\"6\\\",\\\"7\\\",\\\"8\\\",\\\"9\\\",\\\"10\\\"],\\\"changes\\\":WebIO.getval({\\\"name\\\":\\\"changes\\\",\\\"scope\\\":\\\"2757866629936152452\\\",\\\"id\\\":\\\"ob_247\\\",\\\"type\\\":\\\"observable\\\"}),\\\"index\\\":WebIO.getval({\\\"name\\\":\\\"index\\\",\\\"scope\\\":\\\"2757866629936152452\\\",\\\"id\\\":\\\"ob_246\\\",\\\"type\\\":\\\"observable\\\"})};\\n    var self = this;\\n    function AppViewModel() {\\n        for (var key in json_data) {\\n            var el = json_data[key];\\n            this[key] = Array.isArray(el) ? ko.observableArray(el) : ko.observable(el);\\n        }\\n        \\n        [this[\\\"formatted_val\\\"]=ko.computed(    function(){\\n        return this.formatted_vals()[parseInt(this.index())-(1)];\\n    }\\n,this)]\\n        [this[\\\"changes\\\"].subscribe((function (val){!(this.valueFromJulia[\\\"changes\\\"]) ? (WebIO.setval({\\\"name\\\":\\\"changes\\\",\\\"scope\\\":\\\"2757866629936152452\\\",\\\"id\\\":\\\"ob_247\\\",\\\"type\\\":\\\"observable\\\"},val)) : undefined; return this.valueFromJulia[\\\"changes\\\"]=false}),self),this[\\\"index\\\"].subscribe((function (val){!(this.valueFromJulia[\\\"index\\\"]) ? (WebIO.setval({\\\"name\\\":\\\"index\\\",\\\"scope\\\":\\\"2757866629936152452\\\",\\\"id\\\":\\\"ob_246\\\",\\\"type\\\":\\\"observable\\\"},val)) : undefined; return this.valueFromJulia[\\\"index\\\"]=false}),self)]\\n        \\n    }\\n    self.model = new AppViewModel();\\n    self.valueFromJulia = {};\\n    for (var key in json_data) {\\n        self.valueFromJulia[key] = false;\\n    }\\n    ko.applyBindings(self.model, self.dom);\\n}\\n);\\n    (WebIO.importBlock({\\\"data\\\":[{\\\"name\\\":\\\"knockout\\\",\\\"type\\\":\\\"js\\\",\\\"url\\\":\\\"/assetserver/4db391fba1d49cbca35f2d6951146a79e25f3eb1-knockout.js\\\"},{\\\"name\\\":\\\"knockout_punches\\\",\\\"type\\\":\\\"js\\\",\\\"url\\\":\\\"/assetserver/cc4d99a1557ede7cd7c345ce28fa3301304297f4-knockout_punches.js\\\"}],\\\"type\\\":\\\"async_block\\\"})).then((imports) => handler.apply(this, imports));\\n}\\n\")])], Dict{Symbol,Any}(:className => \"field interact-widget\")), Node{WebIO.DOM}(WebIO.DOM(:html, :div), Any[Scope(Node{WebIO.DOM}(WebIO.DOM(:html, :div), Any[Node{WebIO.DOM}(WebIO.DOM(:html, :div), Any[Node{WebIO.DOM}(WebIO.DOM(:html, :label), Any[\"h2\"], Dict{Symbol,Any}(:className => \"interact \",:style => Dict{Any,Any}(:padding => \"5px 10px 0px 10px\")))], Dict{Symbol,Any}(:className => \"interact-flex-row-left\")), Node{WebIO.DOM}(WebIO.DOM(:html, :div), Any[Node{WebIO.DOM}(WebIO.DOM(:html, :input), Any[], Dict{Symbol,Any}(:max => 10,:min => 1,:attributes => Dict{Any,Any}(:type => \"range\",Symbol(\"data-bind\") => \"numericValue: index, valueUpdate: 'input', event: {change: function (){this.changes(this.changes()+1)}}\",\"orient\" => \"horizontal\"),:step => 1,:className => \"slider slider is-fullwidth\",:style => Dict{Any,Any}()))], Dict{Symbol,Any}(:className => \"interact-flex-row-center\")), Node{WebIO.DOM}(WebIO.DOM(:html, :div), Any[Node{WebIO.DOM}(WebIO.DOM(:html, :p), Any[], Dict{Symbol,Any}(:attributes => Dict(\"data-bind\" => \"text: formatted_val\")))], Dict{Symbol,Any}(:className => \"interact-flex-row-right\"))], Dict{Symbol,Any}(:className => \"interact-flex-row interact-widget\")), Dict{String,Tuple{Observables.AbstractObservable,Union{Nothing, Bool}}}(\"changes\" => (Observable{Int64} with 1 listeners. Value:\n",
       "0, nothing),\"index\" => (Observable{Int64} with 2 listeners. Value:\n",
       "5, nothing)), Set(String[]), nothing, Asset[Asset(\"js\", \"knockout\", \"/Users/rub/.julia/packages/Knockout/IP1uR/src/../assets/knockout.js\"), Asset(\"js\", \"knockout_punches\", \"/Users/rub/.julia/packages/Knockout/IP1uR/src/../assets/knockout_punches.js\"), Asset(\"js\", nothing, \"/Users/rub/.julia/packages/InteractBase/9mFwe/src/../assets/all.js\"), Asset(\"css\", nothing, \"/Users/rub/.julia/packages/InteractBase/9mFwe/src/../assets/style.css\"), Asset(\"css\", nothing, \"/Users/rub/.julia/packages/Interact/SbgIk/src/../assets/bulma_confined.min.css\")], Dict{Any,Any}(\"changes\" => Any[WebIO.JSString(\"(function (val){return (val!=this.model[\\\"changes\\\"]()) ? (this.valueFromJulia[\\\"changes\\\"]=true, this.model[\\\"changes\\\"](val)) : undefined})\")],\"index\" => Any[WebIO.JSString(\"(function (val){return (val!=this.model[\\\"index\\\"]()) ? (this.valueFromJulia[\\\"index\\\"]=true, this.model[\\\"index\\\"](val)) : undefined})\")]), WebIO.ConnectionPool(Channel{Any}(sz_max:32,sz_curr:0), Set(AbstractConnection[]), Base.GenericCondition{Base.AlwaysLockedST}(Base.InvasiveLinkedList{Task}(Task (runnable) @0x000000012bc56890, Task (runnable) @0x000000012bc56890), Base.AlwaysLockedST(1))), WebIO.JSString[WebIO.JSString(\"function () {\\n    var handler = (function (ko, koPunches) {\\n    ko.punches.enableAll();\\n    ko.bindingHandlers.numericValue = {\\n        init: function(element, valueAccessor, allBindings, data, context) {\\n            var stringified = ko.observable(ko.unwrap(valueAccessor()));\\n            stringified.subscribe(function(value) {\\n                var val = parseFloat(value);\\n                if (!isNaN(val)) {\\n                    valueAccessor()(val);\\n                }\\n            });\\n            valueAccessor().subscribe(function(value) {\\n                var str = JSON.stringify(value);\\n                if ((str == \\\"0\\\") && ([\\\"-0\\\", \\\"-0.\\\"].indexOf(stringified()) >= 0))\\n                     return;\\n                 if ([\\\"null\\\", \\\"\\\"].indexOf(str) >= 0)\\n                     return;\\n                stringified(str);\\n            });\\n            ko.applyBindingsToNode(\\n                element,\\n                {\\n                    value: stringified,\\n                    valueUpdate: allBindings.get('valueUpdate'),\\n                },\\n                context,\\n            );\\n        }\\n    };\\n    var json_data = {\\\"formatted_vals\\\":[\\\"1\\\",\\\"2\\\",\\\"3\\\",\\\"4\\\",\\\"5\\\",\\\"6\\\",\\\"7\\\",\\\"8\\\",\\\"9\\\",\\\"10\\\"],\\\"changes\\\":WebIO.getval({\\\"name\\\":\\\"changes\\\",\\\"scope\\\":\\\"749916285058641038\\\",\\\"id\\\":\\\"ob_249\\\",\\\"type\\\":\\\"observable\\\"}),\\\"index\\\":WebIO.getval({\\\"name\\\":\\\"index\\\",\\\"scope\\\":\\\"749916285058641038\\\",\\\"id\\\":\\\"ob_248\\\",\\\"type\\\":\\\"observable\\\"})};\\n    var self = this;\\n    function AppViewModel() {\\n        for (var key in json_data) {\\n            var el = json_data[key];\\n            this[key] = Array.isArray(el) ? ko.observableArray(el) : ko.observable(el);\\n        }\\n        \\n        [this[\\\"formatted_val\\\"]=ko.computed(    function(){\\n        return this.formatted_vals()[parseInt(this.index())-(1)];\\n    }\\n,this)]\\n        [this[\\\"changes\\\"].subscribe((function (val){!(this.valueFromJulia[\\\"changes\\\"]) ? (WebIO.setval({\\\"name\\\":\\\"changes\\\",\\\"scope\\\":\\\"749916285058641038\\\",\\\"id\\\":\\\"ob_249\\\",\\\"type\\\":\\\"observable\\\"},val)) : undefined; return this.valueFromJulia[\\\"changes\\\"]=false}),self),this[\\\"index\\\"].subscribe((function (val){!(this.valueFromJulia[\\\"index\\\"]) ? (WebIO.setval({\\\"name\\\":\\\"index\\\",\\\"scope\\\":\\\"749916285058641038\\\",\\\"id\\\":\\\"ob_248\\\",\\\"type\\\":\\\"observable\\\"},val)) : undefined; return this.valueFromJulia[\\\"index\\\"]=false}),self)]\\n        \\n    }\\n    self.model = new AppViewModel();\\n    self.valueFromJulia = {};\\n    for (var key in json_data) {\\n        self.valueFromJulia[key] = false;\\n    }\\n    ko.applyBindings(self.model, self.dom);\\n}\\n);\\n    (WebIO.importBlock({\\\"data\\\":[{\\\"name\\\":\\\"knockout\\\",\\\"type\\\":\\\"js\\\",\\\"url\\\":\\\"/assetserver/4db391fba1d49cbca35f2d6951146a79e25f3eb1-knockout.js\\\"},{\\\"name\\\":\\\"knockout_punches\\\",\\\"type\\\":\\\"js\\\",\\\"url\\\":\\\"/assetserver/cc4d99a1557ede7cd7c345ce28fa3301304297f4-knockout_punches.js\\\"}],\\\"type\\\":\\\"async_block\\\"})).then((imports) => handler.apply(this, imports));\\n}\\n\")])], Dict{Symbol,Any}(:className => \"field interact-widget\")), Observable{Any} with 0 listeners. Value:\n",
       "Node{WebIO.DOM}(WebIO.DOM(:html, :div), Any[Figure(PyObject <Figure size 640x480 with 1 Axes>)], Dict{Symbol,Any}(:className => \"interact-flex-row interact-widget\"))], Dict{Symbol,Any}())"
      ]
     },
     "execution_count": 27,
     "metadata": {
      "application/vnd.webio.node+json": {
       "kernelId": "db841969-ef71-4d11-a7bb-7d7e33ae66bb"
      }
     },
     "output_type": "execute_result"
    }
   ],
   "source": [
    "fig = figure()\n",
    "@manipulate for r1=10:10:500, r2=10:10:500, r3=800:10:1200, h1=1:10, h2=1:10; withfig(fig) do\n",
    "        rho_s_new = dcfwd(AB_2, [r1, r2, r3], [h1, h2])\n",
    "        loglog(AB_2, rho_s,label=\"Messwerte\");\n",
    "        loglog(AB_2, rho_s_new,marker=\"x\",label=\"Modellantwort\")\n",
    "        xlim([1.0, 100.0])\n",
    "        ylim([10.0, 1000.0])\n",
    "        grid()\n",
    "        legend()\n",
    "        xlabel(\"AB/2 in m\")\n",
    "        ylabel(L\"$\\rho_s$ in $\\Omega\\cdot$m\")\n",
    "    end\n",
    "end"
   ]
  },
  {
   "cell_type": "code",
   "execution_count": null,
   "metadata": {},
   "outputs": [],
   "source": []
  }
 ],
 "metadata": {
  "@webio": {
   "lastCommId": "bc460d53e9ec4a199f15129f0abf2584",
   "lastKernelId": "db841969-ef71-4d11-a7bb-7d7e33ae66bb"
  },
  "kernelspec": {
   "display_name": "Julia 1.4.1",
   "language": "julia",
   "name": "julia-1.4"
  },
  "language_info": {
   "file_extension": ".jl",
   "mimetype": "application/julia",
   "name": "julia",
   "version": "1.4.1"
  }
 },
 "nbformat": 4,
 "nbformat_minor": 4
}
