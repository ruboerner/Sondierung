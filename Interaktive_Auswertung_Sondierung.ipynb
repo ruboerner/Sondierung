{
 "cells": [
  {
   "cell_type": "markdown",
   "metadata": {},
   "source": [
    "# Interaktive Auswertung einer Widerstandstiefensondierung"
   ]
  },
  {
   "cell_type": "code",
   "execution_count": null,
   "metadata": {},
   "outputs": [],
   "source": [
    "using PyPlot\n",
    "using Interact\n",
    "include(\"dcfwd.jl\")"
   ]
  },
  {
   "cell_type": "markdown",
   "metadata": {},
   "source": [
    "Wir erzeugen zunächst ein paar synthetische Daten und wählen als Modell einen horizontalen Dreischichtfall."
   ]
  },
  {
   "cell_type": "code",
   "execution_count": null,
   "metadata": {},
   "outputs": [],
   "source": [
    "AB_2 = [1.0, 1.3, 1.8, 2.4, 3.2, 4.2, 5.6, 7.5, 10.0, 13.0, 18.0, 24.0, 32.0, 42.0, 56.0];\n",
    "rho_s = dcfwd(AB_2, [200.0, 10.0, 1000.0], [3.0, 1.0]);"
   ]
  },
  {
   "cell_type": "markdown",
   "metadata": {},
   "source": [
    "Die folgende Zelle erlaubt die interaktive Anpassung der fünf Modellparameter, wobei für die Parameter jeweils sinnvolle Grenzen und Schrittweiten vorgegeben werden müssen."
   ]
  },
  {
   "cell_type": "code",
   "execution_count": null,
   "metadata": {},
   "outputs": [],
   "source": [
    "fig = figure()\n",
    "@manipulate for r1=10:10:500, r2=10:10:500, r3=800:10:1200, h1=1:10, h2=1:10; withfig(fig) do\n",
    "        rho_s_new = dcfwd(AB_2, [r1, r2, r3], [h1, h2])\n",
    "        loglog(AB_2, rho_s,label=\"Messwerte\");\n",
    "        loglog(AB_2, rho_s_new,marker=\"x\",label=\"Modellantwort\")\n",
    "        xlim([1.0, 100.0])\n",
    "        ylim([10.0, 1000.0])\n",
    "        grid()\n",
    "        legend()\n",
    "        xlabel(\"AB/2 in m\")\n",
    "        ylabel(L\"$\\rho_s$ in $\\Omega\\cdot$m\")\n",
    "    end\n",
    "end"
   ]
  },
  {
   "cell_type": "code",
   "execution_count": null,
   "metadata": {},
   "outputs": [],
   "source": []
  }
 ],
 "metadata": {
  "@webio": {
   "lastCommId": null,
   "lastKernelId": null
  },
  "kernelspec": {
   "display_name": "Julia 1.4.1",
   "language": "julia",
   "name": "julia-1.4"
  },
  "language_info": {
   "file_extension": ".jl",
   "mimetype": "application/julia",
   "name": "julia",
   "version": "1.4.1"
  }
 },
 "nbformat": 4,
 "nbformat_minor": 4
}
